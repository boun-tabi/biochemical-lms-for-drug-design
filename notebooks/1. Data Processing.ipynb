{
 "cells": [
  {
   "cell_type": "markdown",
   "metadata": {},
   "source": [
    "# BindingDB Dataset Processing"
   ]
  },
  {
   "cell_type": "code",
   "execution_count": 2,
   "metadata": {},
   "outputs": [
    {
     "name": "stderr",
     "output_type": "stream",
     "text": [
      "C:\\Users\\gokce\\Anaconda3\\envs\\transformers\\lib\\importlib\\_bootstrap.py:219: RuntimeWarning: numpy.ufunc size changed, may indicate binary incompatibility. Expected 192 from C header, got 216 from PyObject\n",
      "  return f(*args, **kwds)\n",
      "C:\\Users\\gokce\\Anaconda3\\envs\\transformers\\lib\\importlib\\_bootstrap.py:219: RuntimeWarning: numpy.ufunc size changed, may indicate binary incompatibility. Expected 192 from C header, got 216 from PyObject\n",
      "  return f(*args, **kwds)\n",
      "C:\\Users\\gokce\\Anaconda3\\envs\\transformers\\lib\\importlib\\_bootstrap.py:219: RuntimeWarning: numpy.ufunc size changed, may indicate binary incompatibility. Expected 192 from C header, got 216 from PyObject\n",
      "  return f(*args, **kwds)\n",
      "C:\\Users\\gokce\\Anaconda3\\envs\\transformers\\lib\\importlib\\_bootstrap.py:219: RuntimeWarning: numpy.ufunc size changed, may indicate binary incompatibility. Expected 192 from C header, got 216 from PyObject\n",
      "  return f(*args, **kwds)\n"
     ]
    }
   ],
   "source": [
    "import pandas as pd\n",
    "import numpy as np\n",
    "import seaborn as sns\n",
    "from tqdm import tqdm \n",
    "import matplotlib.pyplot as plt\n",
    "tqdm.pandas()\n",
    "sns.set()"
   ]
  },
  {
   "cell_type": "code",
   "execution_count": 3,
   "metadata": {},
   "outputs": [],
   "source": [
    "BINDINGDB_PATH = '../data/BindingDB_All.tsv'\n",
    "map_cols = {\n",
    "    \"BindingDB Reactant_set_id\": \"BindingDB_ID\",\n",
    "    \"BindingDB Ligand Name\": \"ligand_name\",\n",
    "    \"Ligand SMILES\": \"SMILES\", \n",
    "    \"Target Name Assigned by Curator or DataSource\": \"target_name\",\n",
    "    \"Target Source Organism According to Curator or DataSource\": \"target_organism\",\n",
    "    \"IC50 (nM)\": \"IC50\",\n",
    "    \"Ki (nM)\": \"Ki\", \n",
    "    \"Kd (nM)\": \"Kd\", \n",
    "    \"EC50 (nM)\": \"EC50\", \n",
    "    \"PubChem AID\": \"PubChem_AID\",\n",
    "    \"PubChem CID\": \"PubChem_CID\", # Compound ID\n",
    "    \"PubChem SID\": \"PubChem_SID\", # Substance ID. What's the difference?\n",
    "    \"Ligand HET ID in PDB\": \"ligand_het_id_pdb\",\n",
    "    \"ChEBI ID of Ligand\": \"ligand_ChEBI_ID\",\n",
    "    \"ChEMBL ID of Ligand\": \"ligand_ChEMBL_ID\",\n",
    "    \"DrugBank ID of Ligand\": \"ligand_DrugBank_ID\",\n",
    "    \"KEGG ID of Ligand\": \"ligand_KEGG_ID\",\n",
    "    \"ZINC ID of Ligand\": \"ligand_ZINC_ID\",\n",
    "    \"PDB ID(s) for Ligand-Target Complex\": \"interaction_PDB_IDs\",\n",
    "    \"Number of Protein Chains in Target (>1 implies a multichain complex)\": \"n_chains\",\n",
    "    \"BindingDB Target Chain  Sequence\": \"target_sequence\",\n",
    "    \"PDB ID(s) of Target Chain\": \"target_PDB_IDs\",\n",
    "    \"UniProt (SwissProt) Primary ID of Target Chain\": \"UniProt_S_ID\",\n",
    "    \"UniProt (SwissProt) Recommended Name of Target Chain\": \"UniProt_S_entry_name\",\n",
    "    \"UniProt (SwissProt) Entry Name of Target Chain\": \"UniProt_S_rec_name\",\n",
    "    \"UniProt (SwissProt) Alternative ID(s) of Target Chain\": \"UniProt_S_alt_IDs\",\n",
    "    \"UniProt (TrEMBL) Submitted Name of Target Chain\": \"UniProt_T_submitted_name\",\n",
    "    \"UniProt (TrEMBL) Entry Name of Target Chain\": \"UniProt_T_entry_name\",\n",
    "    \"UniProt (TrEMBL) Primary ID of Target Chain\": \"UniProt_T_ID\",\n",
    "    \"UniProt (TrEMBL) Alternative ID(s) of Target Chain\": \"UniProt_T_alt_IDs\"\n",
    "}"
   ]
  },
  {
   "cell_type": "markdown",
   "metadata": {},
   "source": [
    "BindingDB dataset contains information for the interaction of one small molecule ligand with one protein target. Each row includes a SMILES string for the ligand, the identity of the target, the measured affinity, the source of the data, and links to related information in other databases. The size of dataset is huge for memory, so we process it in chunks until it is filtered and the size is reasonable."
   ]
  },
  {
   "cell_type": "code",
   "execution_count": 4,
   "metadata": {},
   "outputs": [],
   "source": [
    "BindingDB_interactions = pd.read_csv(BINDINGDB_PATH, \n",
    "                                     sep='\\t', \n",
    "                                     usecols=map_cols.keys(), \n",
    "                                     chunksize=100000)"
   ]
  },
  {
   "cell_type": "code",
   "execution_count": 5,
   "metadata": {},
   "outputs": [],
   "source": [
    "def process_as_chunks(chunk_list, fnc):\n",
    "    return [fnc(chunk) for chunk in chunk_list]"
   ]
  },
  {
   "cell_type": "code",
   "execution_count": 6,
   "metadata": {},
   "outputs": [
    {
     "name": "stderr",
     "output_type": "stream",
     "text": [
      "C:\\Users\\gokce\\Anaconda3\\envs\\transformers\\lib\\site-packages\\IPython\\core\\interactiveshell.py:3343: DtypeWarning: Columns (8,9,10,11,19,27,38) have mixed types.Specify dtype option on import or set low_memory=False.\n",
      "  exec(code_obj, self.user_global_ns, self.user_ns)\n",
      "C:\\Users\\gokce\\Anaconda3\\envs\\transformers\\lib\\site-packages\\IPython\\core\\interactiveshell.py:3343: DtypeWarning: Columns (8,10,11,19) have mixed types.Specify dtype option on import or set low_memory=False.\n",
      "  exec(code_obj, self.user_global_ns, self.user_ns)\n",
      "C:\\Users\\gokce\\Anaconda3\\envs\\transformers\\lib\\site-packages\\IPython\\core\\interactiveshell.py:3343: DtypeWarning: Columns (8,10,11,19,32) have mixed types.Specify dtype option on import or set low_memory=False.\n",
      "  exec(code_obj, self.user_global_ns, self.user_ns)\n",
      "C:\\Users\\gokce\\Anaconda3\\envs\\transformers\\lib\\site-packages\\IPython\\core\\interactiveshell.py:3343: DtypeWarning: Columns (8,10,11,32,34) have mixed types.Specify dtype option on import or set low_memory=False.\n",
      "  exec(code_obj, self.user_global_ns, self.user_ns)\n",
      "C:\\Users\\gokce\\Anaconda3\\envs\\transformers\\lib\\site-packages\\IPython\\core\\interactiveshell.py:3343: DtypeWarning: Columns (8,10,11,26,27,31,32,34,35) have mixed types.Specify dtype option on import or set low_memory=False.\n",
      "  exec(code_obj, self.user_global_ns, self.user_ns)\n",
      "C:\\Users\\gokce\\Anaconda3\\envs\\transformers\\lib\\site-packages\\IPython\\core\\interactiveshell.py:3343: DtypeWarning: Columns (8,10,11,32,34,35) have mixed types.Specify dtype option on import or set low_memory=False.\n",
      "  exec(code_obj, self.user_global_ns, self.user_ns)\n",
      "C:\\Users\\gokce\\Anaconda3\\envs\\transformers\\lib\\site-packages\\IPython\\core\\interactiveshell.py:3343: DtypeWarning: Columns (10,11,32) have mixed types.Specify dtype option on import or set low_memory=False.\n",
      "  exec(code_obj, self.user_global_ns, self.user_ns)\n",
      "C:\\Users\\gokce\\Anaconda3\\envs\\transformers\\lib\\site-packages\\IPython\\core\\interactiveshell.py:3343: DtypeWarning: Columns (10) have mixed types.Specify dtype option on import or set low_memory=False.\n",
      "  exec(code_obj, self.user_global_ns, self.user_ns)\n",
      "C:\\Users\\gokce\\Anaconda3\\envs\\transformers\\lib\\site-packages\\IPython\\core\\interactiveshell.py:3343: DtypeWarning: Columns (10,11) have mixed types.Specify dtype option on import or set low_memory=False.\n",
      "  exec(code_obj, self.user_global_ns, self.user_ns)\n"
     ]
    }
   ],
   "source": [
    "def rename(df):\n",
    "    return df.rename(columns=map_cols)\n",
    "\n",
    "chunk_interactions = process_as_chunks(BindingDB_interactions, rename) "
   ]
  },
  {
   "cell_type": "code",
   "execution_count": 7,
   "metadata": {},
   "outputs": [],
   "source": [
    "def size(df):\n",
    "    return df.shape[0]\n",
    "chunk_sizes = process_as_chunks(chunk_interactions, size)\n",
    "num_of_interactions = sum(chunk_sizes)"
   ]
  },
  {
   "cell_type": "markdown",
   "metadata": {},
   "source": [
    "BindingDB dataset contains ~2M interactions. To train our models, we need sequences of protein-ligand pairs. First, we drop the interactions missing either ligand SMILES or protein sequence.   "
   ]
  },
  {
   "cell_type": "markdown",
   "metadata": {},
   "source": [
    "## Dropping Missing Fields"
   ]
  },
  {
   "cell_type": "code",
   "execution_count": 8,
   "metadata": {},
   "outputs": [
    {
     "name": "stdout",
     "output_type": "stream",
     "text": [
      "Interactions having protein and ligand sequence 2035703\n"
     ]
    }
   ],
   "source": [
    "def drop_missing_sequences(df):\n",
    "    return df.dropna(axis=0, subset=['SMILES', 'target_sequence'], how='any')\n",
    "\n",
    "chunk_interactions = process_as_chunks(chunk_interactions, drop_missing_sequences) \n",
    "chunk_sizes = process_as_chunks(chunk_interactions, size)\n",
    "num_of_interactions_with_seq = sum(chunk_sizes)\n",
    "print('Interactions having protein and ligand sequence', num_of_interactions_with_seq)"
   ]
  },
  {
   "cell_type": "markdown",
   "metadata": {},
   "source": [
    "Next, we drop the interactions in which the target proteins has multichains."
   ]
  },
  {
   "cell_type": "code",
   "execution_count": 9,
   "metadata": {},
   "outputs": [
    {
     "name": "stdout",
     "output_type": "stream",
     "text": [
      "Interactions with single chain protein 1940233\n"
     ]
    }
   ],
   "source": [
    "def drop_multichain_targets(df):\n",
    "    return df.query('n_chains == 1')\n",
    "chunk_interactions = process_as_chunks(chunk_interactions, drop_multichain_targets) \n",
    "chunk_sizes = process_as_chunks(chunk_interactions, size)\n",
    "print('Interactions with single chain protein', sum(chunk_sizes))"
   ]
  },
  {
   "cell_type": "markdown",
   "metadata": {},
   "source": [
    "To construct a test set of unseen proteins, we will hold out some families. The family information is not included in BindingDB, however it could be obtained from Pfam via proteins' UniProt ID. Therefore, we drop the interactions where the protein do not have UniProt ID."
   ]
  },
  {
   "cell_type": "code",
   "execution_count": 10,
   "metadata": {},
   "outputs": [
    {
     "name": "stdout",
     "output_type": "stream",
     "text": [
      "Interactions with protein identifier 1779696\n"
     ]
    }
   ],
   "source": [
    "def drop_wout_interaction_uniprot_id(df):\n",
    "    return df.dropna(axis=0, subset=['UniProt_S_ID'])\n",
    "chunk_interactions_with_uniprot_id = process_as_chunks(chunk_interactions, drop_wout_interaction_uniprot_id) \n",
    "chunk_sizes = process_as_chunks(chunk_interactions_with_uniprot_id, size)\n",
    "print('Interactions with protein identifier', sum(chunk_sizes))"
   ]
  },
  {
   "cell_type": "markdown",
   "metadata": {},
   "source": [
    "Here, we export the proteins that we filtered to retrieve the family information of these from Pfam."
   ]
  },
  {
   "cell_type": "code",
   "execution_count": 12,
   "metadata": {},
   "outputs": [
    {
     "name": "stdout",
     "output_type": "stream",
     "text": [
      "Number of proteins with UniProt ID 6421\n"
     ]
    }
   ],
   "source": [
    "def get_uniprot_id_with_seq(df):\n",
    "    return df[['UniProt_S_ID', 'target_name', 'target_sequence']]\n",
    "protein_uniprot_ids = process_as_chunks(chunk_interactions_with_uniprot_id, get_uniprot_id_with_seq) \n",
    "protein_seq = pd.concat(protein_uniprot_ids)\n",
    "protein_seq.drop_duplicates(inplace=True)\n",
    "protein_seq.to_csv('../data/BindingDB_onechain_protein_seq.csv', index=None)\n",
    "print('Number of proteins with UniProt ID', protein_df.shape[0])"
   ]
  },
  {
   "cell_type": "markdown",
   "metadata": {},
   "source": [
    "We will use affinity data to decide whether protein-ligand pair is likely to interact or not and we will label interactions as positive and negative based on affinity score. So, we drop the interactions not having any affinity measurement. "
   ]
  },
  {
   "cell_type": "code",
   "execution_count": 13,
   "metadata": {},
   "outputs": [
    {
     "name": "stdout",
     "output_type": "stream",
     "text": [
      "Interactions with affinity 1777906\n"
     ]
    }
   ],
   "source": [
    "def drop_interactions_without_affinity(df):\n",
    "    return df.dropna(axis=0, subset=['IC50', 'Ki', 'EC50', 'Kd'], how='all')\n",
    "chunk_interactions_wout_aff = process_as_chunks(chunk_interactions_with_uniprot_id, drop_interactions_without_affinity) \n",
    "chunk_sizes = process_as_chunks(chunk_interactions_wout_aff, size)\n",
    "print('Interactions with affinity', sum(chunk_sizes))"
   ]
  },
  {
   "cell_type": "markdown",
   "metadata": {},
   "source": [
    "## Canonicalization"
   ]
  },
  {
   "cell_type": "markdown",
   "metadata": {},
   "source": [
    "SMILES representation is a way to represent a 2D molecular graph as a 1D string. A molecular graph could possibly have many SMILES strings. By canonicalization, we map different SMILES representations of a molecular graph to a unique SMILES and also check whether SMILES is valid.  "
   ]
  },
  {
   "cell_type": "code",
   "execution_count": 14,
   "metadata": {},
   "outputs": [
    {
     "name": "stderr",
     "output_type": "stream",
     "text": [
      "100%|██████████████████████████████████████████████████████████████████████████| 77932/77932 [00:57<00:00, 1346.27it/s]\n",
      "C:\\Users\\gokce\\Anaconda3\\envs\\transformers\\lib\\site-packages\\ipykernel_launcher.py:13: SettingWithCopyWarning: \n",
      "A value is trying to be set on a copy of a slice from a DataFrame.\n",
      "Try using .loc[row_indexer,col_indexer] = value instead\n",
      "\n",
      "See the caveats in the documentation: https://pandas.pydata.org/pandas-docs/stable/user_guide/indexing.html#returning-a-view-versus-a-copy\n",
      "  del sys.path[0]\n",
      "C:\\Users\\gokce\\Anaconda3\\envs\\transformers\\lib\\site-packages\\ipykernel_launcher.py:14: SettingWithCopyWarning: \n",
      "A value is trying to be set on a copy of a slice from a DataFrame\n",
      "\n",
      "See the caveats in the documentation: https://pandas.pydata.org/pandas-docs/stable/user_guide/indexing.html#returning-a-view-versus-a-copy\n",
      "  \n",
      "100%|██████████████████████████████████████████████████████████████████████████| 90533/90533 [01:04<00:00, 1399.93it/s]\n",
      "100%|██████████████████████████████████████████████████████████████████████████| 93907/93907 [01:10<00:00, 1328.48it/s]\n",
      "C:\\Users\\gokce\\Anaconda3\\envs\\transformers\\lib\\site-packages\\ipykernel_launcher.py:13: SettingWithCopyWarning: \n",
      "A value is trying to be set on a copy of a slice from a DataFrame.\n",
      "Try using .loc[row_indexer,col_indexer] = value instead\n",
      "\n",
      "See the caveats in the documentation: https://pandas.pydata.org/pandas-docs/stable/user_guide/indexing.html#returning-a-view-versus-a-copy\n",
      "  del sys.path[0]\n",
      "C:\\Users\\gokce\\Anaconda3\\envs\\transformers\\lib\\site-packages\\ipykernel_launcher.py:14: SettingWithCopyWarning: \n",
      "A value is trying to be set on a copy of a slice from a DataFrame\n",
      "\n",
      "See the caveats in the documentation: https://pandas.pydata.org/pandas-docs/stable/user_guide/indexing.html#returning-a-view-versus-a-copy\n",
      "  \n",
      "100%|██████████████████████████████████████████████████████████████████████████| 82211/82211 [01:07<00:00, 1216.33it/s]\n",
      "C:\\Users\\gokce\\Anaconda3\\envs\\transformers\\lib\\site-packages\\ipykernel_launcher.py:13: SettingWithCopyWarning: \n",
      "A value is trying to be set on a copy of a slice from a DataFrame.\n",
      "Try using .loc[row_indexer,col_indexer] = value instead\n",
      "\n",
      "See the caveats in the documentation: https://pandas.pydata.org/pandas-docs/stable/user_guide/indexing.html#returning-a-view-versus-a-copy\n",
      "  del sys.path[0]\n",
      "C:\\Users\\gokce\\Anaconda3\\envs\\transformers\\lib\\site-packages\\ipykernel_launcher.py:14: SettingWithCopyWarning: \n",
      "A value is trying to be set on a copy of a slice from a DataFrame\n",
      "\n",
      "See the caveats in the documentation: https://pandas.pydata.org/pandas-docs/stable/user_guide/indexing.html#returning-a-view-versus-a-copy\n",
      "  \n",
      "100%|██████████████████████████████████████████████████████████████████████████| 75686/75686 [00:59<00:00, 1275.06it/s]\n",
      "C:\\Users\\gokce\\Anaconda3\\envs\\transformers\\lib\\site-packages\\ipykernel_launcher.py:13: SettingWithCopyWarning: \n",
      "A value is trying to be set on a copy of a slice from a DataFrame.\n",
      "Try using .loc[row_indexer,col_indexer] = value instead\n",
      "\n",
      "See the caveats in the documentation: https://pandas.pydata.org/pandas-docs/stable/user_guide/indexing.html#returning-a-view-versus-a-copy\n",
      "  del sys.path[0]\n",
      "C:\\Users\\gokce\\Anaconda3\\envs\\transformers\\lib\\site-packages\\ipykernel_launcher.py:14: SettingWithCopyWarning: \n",
      "A value is trying to be set on a copy of a slice from a DataFrame\n",
      "\n",
      "See the caveats in the documentation: https://pandas.pydata.org/pandas-docs/stable/user_guide/indexing.html#returning-a-view-versus-a-copy\n",
      "  \n",
      "100%|██████████████████████████████████████████████████████████████████████████| 85616/85616 [01:10<00:00, 1208.37it/s]\n",
      "C:\\Users\\gokce\\Anaconda3\\envs\\transformers\\lib\\site-packages\\ipykernel_launcher.py:13: SettingWithCopyWarning: \n",
      "A value is trying to be set on a copy of a slice from a DataFrame.\n",
      "Try using .loc[row_indexer,col_indexer] = value instead\n",
      "\n",
      "See the caveats in the documentation: https://pandas.pydata.org/pandas-docs/stable/user_guide/indexing.html#returning-a-view-versus-a-copy\n",
      "  del sys.path[0]\n",
      "C:\\Users\\gokce\\Anaconda3\\envs\\transformers\\lib\\site-packages\\ipykernel_launcher.py:14: SettingWithCopyWarning: \n",
      "A value is trying to be set on a copy of a slice from a DataFrame\n",
      "\n",
      "See the caveats in the documentation: https://pandas.pydata.org/pandas-docs/stable/user_guide/indexing.html#returning-a-view-versus-a-copy\n",
      "  \n",
      "100%|██████████████████████████████████████████████████████████████████████████| 83566/83566 [01:12<00:00, 1160.37it/s]\n",
      "100%|██████████████████████████████████████████████████████████████████████████| 85607/85607 [01:14<00:00, 1141.97it/s]\n",
      "100%|██████████████████████████████████████████████████████████████████████████| 80690/80690 [01:04<00:00, 1244.40it/s]\n",
      "C:\\Users\\gokce\\Anaconda3\\envs\\transformers\\lib\\site-packages\\ipykernel_launcher.py:13: SettingWithCopyWarning: \n",
      "A value is trying to be set on a copy of a slice from a DataFrame.\n",
      "Try using .loc[row_indexer,col_indexer] = value instead\n",
      "\n",
      "See the caveats in the documentation: https://pandas.pydata.org/pandas-docs/stable/user_guide/indexing.html#returning-a-view-versus-a-copy\n",
      "  del sys.path[0]\n",
      "C:\\Users\\gokce\\Anaconda3\\envs\\transformers\\lib\\site-packages\\ipykernel_launcher.py:14: SettingWithCopyWarning: \n",
      "A value is trying to be set on a copy of a slice from a DataFrame\n",
      "\n",
      "See the caveats in the documentation: https://pandas.pydata.org/pandas-docs/stable/user_guide/indexing.html#returning-a-view-versus-a-copy\n",
      "  \n",
      "100%|██████████████████████████████████████████████████████████████████████████| 88014/88014 [01:09<00:00, 1273.66it/s]\n",
      "C:\\Users\\gokce\\Anaconda3\\envs\\transformers\\lib\\site-packages\\ipykernel_launcher.py:13: SettingWithCopyWarning: \n",
      "A value is trying to be set on a copy of a slice from a DataFrame.\n",
      "Try using .loc[row_indexer,col_indexer] = value instead\n",
      "\n",
      "See the caveats in the documentation: https://pandas.pydata.org/pandas-docs/stable/user_guide/indexing.html#returning-a-view-versus-a-copy\n",
      "  del sys.path[0]\n",
      "C:\\Users\\gokce\\Anaconda3\\envs\\transformers\\lib\\site-packages\\ipykernel_launcher.py:14: SettingWithCopyWarning: \n",
      "A value is trying to be set on a copy of a slice from a DataFrame\n",
      "\n",
      "See the caveats in the documentation: https://pandas.pydata.org/pandas-docs/stable/user_guide/indexing.html#returning-a-view-versus-a-copy\n",
      "  \n",
      "100%|██████████████████████████████████████████████████████████████████████████| 92256/92256 [01:10<00:00, 1317.86it/s]\n",
      "C:\\Users\\gokce\\Anaconda3\\envs\\transformers\\lib\\site-packages\\ipykernel_launcher.py:13: SettingWithCopyWarning: \n",
      "A value is trying to be set on a copy of a slice from a DataFrame.\n",
      "Try using .loc[row_indexer,col_indexer] = value instead\n",
      "\n",
      "See the caveats in the documentation: https://pandas.pydata.org/pandas-docs/stable/user_guide/indexing.html#returning-a-view-versus-a-copy\n",
      "  del sys.path[0]\n",
      "C:\\Users\\gokce\\Anaconda3\\envs\\transformers\\lib\\site-packages\\ipykernel_launcher.py:14: SettingWithCopyWarning: \n",
      "A value is trying to be set on a copy of a slice from a DataFrame\n",
      "\n",
      "See the caveats in the documentation: https://pandas.pydata.org/pandas-docs/stable/user_guide/indexing.html#returning-a-view-versus-a-copy\n",
      "  \n",
      "100%|██████████████████████████████████████████████████████████████████████████| 93136/93136 [01:08<00:00, 1353.72it/s]\n",
      "100%|██████████████████████████████████████████████████████████████████████████| 95470/95470 [01:16<00:00, 1249.00it/s]\n",
      "C:\\Users\\gokce\\Anaconda3\\envs\\transformers\\lib\\site-packages\\ipykernel_launcher.py:13: SettingWithCopyWarning: \n",
      "A value is trying to be set on a copy of a slice from a DataFrame.\n",
      "Try using .loc[row_indexer,col_indexer] = value instead\n",
      "\n",
      "See the caveats in the documentation: https://pandas.pydata.org/pandas-docs/stable/user_guide/indexing.html#returning-a-view-versus-a-copy\n",
      "  del sys.path[0]\n",
      "C:\\Users\\gokce\\Anaconda3\\envs\\transformers\\lib\\site-packages\\ipykernel_launcher.py:14: SettingWithCopyWarning: \n",
      "A value is trying to be set on a copy of a slice from a DataFrame\n",
      "\n",
      "See the caveats in the documentation: https://pandas.pydata.org/pandas-docs/stable/user_guide/indexing.html#returning-a-view-versus-a-copy\n",
      "  \n",
      "100%|██████████████████████████████████████████████████████████████████████████| 91383/91383 [01:14<00:00, 1227.37it/s]\n",
      "C:\\Users\\gokce\\Anaconda3\\envs\\transformers\\lib\\site-packages\\ipykernel_launcher.py:13: SettingWithCopyWarning: \n",
      "A value is trying to be set on a copy of a slice from a DataFrame.\n",
      "Try using .loc[row_indexer,col_indexer] = value instead\n",
      "\n",
      "See the caveats in the documentation: https://pandas.pydata.org/pandas-docs/stable/user_guide/indexing.html#returning-a-view-versus-a-copy\n",
      "  del sys.path[0]\n",
      "C:\\Users\\gokce\\Anaconda3\\envs\\transformers\\lib\\site-packages\\ipykernel_launcher.py:14: SettingWithCopyWarning: \n",
      "A value is trying to be set on a copy of a slice from a DataFrame\n",
      "\n",
      "See the caveats in the documentation: https://pandas.pydata.org/pandas-docs/stable/user_guide/indexing.html#returning-a-view-versus-a-copy\n",
      "  \n"
     ]
    },
    {
     "name": "stderr",
     "output_type": "stream",
     "text": [
      "100%|██████████████████████████████████████████████████████████████████████████| 80358/80358 [00:57<00:00, 1388.79it/s]\n",
      "C:\\Users\\gokce\\Anaconda3\\envs\\transformers\\lib\\site-packages\\ipykernel_launcher.py:13: SettingWithCopyWarning: \n",
      "A value is trying to be set on a copy of a slice from a DataFrame.\n",
      "Try using .loc[row_indexer,col_indexer] = value instead\n",
      "\n",
      "See the caveats in the documentation: https://pandas.pydata.org/pandas-docs/stable/user_guide/indexing.html#returning-a-view-versus-a-copy\n",
      "  del sys.path[0]\n",
      "C:\\Users\\gokce\\Anaconda3\\envs\\transformers\\lib\\site-packages\\ipykernel_launcher.py:14: SettingWithCopyWarning: \n",
      "A value is trying to be set on a copy of a slice from a DataFrame\n",
      "\n",
      "See the caveats in the documentation: https://pandas.pydata.org/pandas-docs/stable/user_guide/indexing.html#returning-a-view-versus-a-copy\n",
      "  \n",
      "100%|██████████████████████████████████████████████████████████████████████████| 94826/94826 [01:11<00:00, 1324.39it/s]\n",
      "100%|██████████████████████████████████████████████████████████████████████████| 91791/91791 [01:12<00:00, 1262.22it/s]\n",
      "100%|██████████████████████████████████████████████████████████████████████████| 95677/95677 [01:09<00:00, 1367.94it/s]\n",
      "100%|██████████████████████████████████████████████████████████████████████████| 91957/91957 [01:06<00:00, 1375.50it/s]\n",
      "C:\\Users\\gokce\\Anaconda3\\envs\\transformers\\lib\\site-packages\\ipykernel_launcher.py:13: SettingWithCopyWarning: \n",
      "A value is trying to be set on a copy of a slice from a DataFrame.\n",
      "Try using .loc[row_indexer,col_indexer] = value instead\n",
      "\n",
      "See the caveats in the documentation: https://pandas.pydata.org/pandas-docs/stable/user_guide/indexing.html#returning-a-view-versus-a-copy\n",
      "  del sys.path[0]\n",
      "C:\\Users\\gokce\\Anaconda3\\envs\\transformers\\lib\\site-packages\\ipykernel_launcher.py:14: SettingWithCopyWarning: \n",
      "A value is trying to be set on a copy of a slice from a DataFrame\n",
      "\n",
      "See the caveats in the documentation: https://pandas.pydata.org/pandas-docs/stable/user_guide/indexing.html#returning-a-view-versus-a-copy\n",
      "  \n",
      "100%|██████████████████████████████████████████████████████████████████████████| 80304/80304 [01:07<00:00, 1189.90it/s]\n",
      "C:\\Users\\gokce\\Anaconda3\\envs\\transformers\\lib\\site-packages\\ipykernel_launcher.py:13: SettingWithCopyWarning: \n",
      "A value is trying to be set on a copy of a slice from a DataFrame.\n",
      "Try using .loc[row_indexer,col_indexer] = value instead\n",
      "\n",
      "See the caveats in the documentation: https://pandas.pydata.org/pandas-docs/stable/user_guide/indexing.html#returning-a-view-versus-a-copy\n",
      "  del sys.path[0]\n",
      "C:\\Users\\gokce\\Anaconda3\\envs\\transformers\\lib\\site-packages\\ipykernel_launcher.py:14: SettingWithCopyWarning: \n",
      "A value is trying to be set on a copy of a slice from a DataFrame\n",
      "\n",
      "See the caveats in the documentation: https://pandas.pydata.org/pandas-docs/stable/user_guide/indexing.html#returning-a-view-versus-a-copy\n",
      "  \n",
      "100%|██████████████████████████████████████████████████████████████████████████| 26986/26986 [00:21<00:00, 1259.63it/s]\n"
     ]
    },
    {
     "name": "stdout",
     "output_type": "stream",
     "text": [
      "Interactions with valid SMILES 1776394\n"
     ]
    }
   ],
   "source": [
    "from rdkit.Chem import MolFromSmiles, MolToSmiles, SanitizeMol, Descriptors\n",
    "def canonicalize_smiles(s):\n",
    "    mol = MolFromSmiles(s)\n",
    "    if mol:\n",
    "        try:\n",
    "            SanitizeMol(mol)\n",
    "            return MolToSmiles(mol), Descriptors.ExactMolWt(mol)\n",
    "        except:\n",
    "            pass\n",
    "    return None, None\n",
    "\n",
    "def normalize_ligands(df):\n",
    "    df['canonical_SMILES'], df['MolWt'] = zip(*df['SMILES'].progress_apply(canonicalize_smiles))     \n",
    "    df.dropna(subset=['canonical_SMILES'], inplace=True)\n",
    "    return df\n",
    "\n",
    "chunk_normalized_interactions = process_as_chunks(chunk_interactions_wout_aff, normalize_ligands)\n",
    "chunk_sizes = process_as_chunks(chunk_normalized_interactions, size)\n",
    "print('Interactions with valid SMILES', sum(chunk_sizes))"
   ]
  },
  {
   "cell_type": "markdown",
   "metadata": {},
   "source": [
    "## Molecular Weight"
   ]
  },
  {
   "cell_type": "code",
   "execution_count": 15,
   "metadata": {},
   "outputs": [],
   "source": [
    "def filter_heavy_molecules(df):\n",
    "    return df[df['MolWt'] < 1000]\n",
    "chunk_normalized_interactions_small = process_as_chunks(chunk_normalized_interactions, filter_heavy_molecules) "
   ]
  },
  {
   "cell_type": "markdown",
   "metadata": {},
   "source": [
    "## Labeling interactions"
   ]
  },
  {
   "cell_type": "markdown",
   "metadata": {},
   "source": [
    "### Geometric Mean"
   ]
  },
  {
   "cell_type": "markdown",
   "metadata": {},
   "source": [
    "A ligand is considered as **active** towards a target protein if affinity score of the interaction is under a certain threshold. This threshold changes depending on the drug discovery stage. [Gleeson et al., 2011](https://www.nature.com/articles/nrd3367) analyze publicly available drugs and molecules from ChEMBL dataset and suggest that pXC50 threshold might be ~7.5 during early research and development in drug discovery (The hit-like molecules have a pXC50 of 6 (1 microMolar potency) and the desired output of lead optimization program is a pXC50 of 9 (1 nanoMolar potency)). In this study, we aim to generate lead-like molecules. So, we set the threshold as a pXC50 of 7 which corresponds to 100 nanoMolar. Ki and Kd values are converted to IC50 by a factor 2 by following [the work](https://ascpt.onlinelibrary.wiley.com/doi/full/10.1002/cpt.1846) and based on [the evidence](https://dmd.aspetjournals.org/content/dmd/43/11/1744.full.pdf?with-ds=yes). Herein, we label the interactions with affinity score is less than 100 nm as **active**."
   ]
  },
  {
   "cell_type": "markdown",
   "metadata": {},
   "source": [
    "In case of more than one reported affinity score and assay, we calculate the geometric mean of these values and compare this with the threshold."
   ]
  },
  {
   "cell_type": "code",
   "execution_count": 16,
   "metadata": {},
   "outputs": [
    {
     "name": "stderr",
     "output_type": "stream",
     "text": [
      "C:\\Users\\gokce\\Anaconda3\\envs\\transformers\\lib\\site-packages\\ipykernel_launcher.py:7: SettingWithCopyWarning: \n",
      "A value is trying to be set on a copy of a slice from a DataFrame.\n",
      "Try using .loc[row_indexer,col_indexer] = value instead\n",
      "\n",
      "See the caveats in the documentation: https://pandas.pydata.org/pandas-docs/stable/user_guide/indexing.html#returning-a-view-versus-a-copy\n",
      "  import sys\n",
      "C:\\Users\\gokce\\Anaconda3\\envs\\transformers\\lib\\site-packages\\ipykernel_launcher.py:8: SettingWithCopyWarning: \n",
      "A value is trying to be set on a copy of a slice from a DataFrame.\n",
      "Try using .loc[row_indexer,col_indexer] = value instead\n",
      "\n",
      "See the caveats in the documentation: https://pandas.pydata.org/pandas-docs/stable/user_guide/indexing.html#returning-a-view-versus-a-copy\n",
      "  \n",
      "C:\\Users\\gokce\\Anaconda3\\envs\\transformers\\lib\\site-packages\\ipykernel_launcher.py:9: SettingWithCopyWarning: \n",
      "A value is trying to be set on a copy of a slice from a DataFrame.\n",
      "Try using .loc[row_indexer,col_indexer] = value instead\n",
      "\n",
      "See the caveats in the documentation: https://pandas.pydata.org/pandas-docs/stable/user_guide/indexing.html#returning-a-view-versus-a-copy\n",
      "  if __name__ == '__main__':\n"
     ]
    }
   ],
   "source": [
    "THRESHOLD = 100\n",
    "affinity_metrics = ['IC50', 'Ki', 'EC50', 'Kd']\n",
    "\n",
    "def convert_to_numeric(df):\n",
    "    for metric in affinity_metrics:\n",
    "        #df[metric + '_n'] = df[metric].apply(numeric_affinity)\n",
    "        df[metric + '_n'] = pd.to_numeric(df[metric], errors='coerce') # exclude not exact affinity scores (>100, <10000)\n",
    "    df['Ki_m'] = df['Ki_n'] * 2\n",
    "    df['Kd_m'] = df['Kd_n'] * 2\n",
    "    return df\n",
    "chunk_normalized_interactions_num = process_as_chunks(chunk_normalized_interactions_small, convert_to_numeric) \n",
    "all_interactions = pd.concat(chunk_normalized_interactions_num)\n",
    "all_interactions = convert_to_numeric(all_interactions)"
   ]
  },
  {
   "cell_type": "code",
   "execution_count": 17,
   "metadata": {},
   "outputs": [
    {
     "data": {
      "text/html": [
       "<div>\n",
       "<style scoped>\n",
       "    .dataframe tbody tr th:only-of-type {\n",
       "        vertical-align: middle;\n",
       "    }\n",
       "\n",
       "    .dataframe tbody tr th {\n",
       "        vertical-align: top;\n",
       "    }\n",
       "\n",
       "    .dataframe thead th {\n",
       "        text-align: right;\n",
       "    }\n",
       "</style>\n",
       "<table border=\"1\" class=\"dataframe\">\n",
       "  <thead>\n",
       "    <tr style=\"text-align: right;\">\n",
       "      <th></th>\n",
       "      <th>UniProt_S_ID</th>\n",
       "      <th>canonical_SMILES</th>\n",
       "      <th>IC50</th>\n",
       "      <th>Kd</th>\n",
       "      <th>EC50</th>\n",
       "      <th>Ki</th>\n",
       "      <th>IC50_n</th>\n",
       "      <th>Kd_n</th>\n",
       "      <th>EC50_n</th>\n",
       "      <th>Ki_n</th>\n",
       "      <th>Kd_m</th>\n",
       "      <th>Ki_m</th>\n",
       "    </tr>\n",
       "  </thead>\n",
       "  <tbody>\n",
       "    <tr>\n",
       "      <th>142</th>\n",
       "      <td>P08684</td>\n",
       "      <td>Cc1nc(CN2CCN(c3c(Cl)cnc4[nH]c(-c5cn(C)nc5C)nc3...</td>\n",
       "      <td>&gt;50000</td>\n",
       "      <td>NaN</td>\n",
       "      <td>NaN</td>\n",
       "      <td>NaN</td>\n",
       "      <td>NaN</td>\n",
       "      <td>NaN</td>\n",
       "      <td>NaN</td>\n",
       "      <td>NaN</td>\n",
       "      <td>NaN</td>\n",
       "      <td>NaN</td>\n",
       "    </tr>\n",
       "    <tr>\n",
       "      <th>144</th>\n",
       "      <td>P51570</td>\n",
       "      <td>O=C1CCCC2=C1C1(CCS(=O)(=O)C1)N=C(Nc1nc3ccccc3o...</td>\n",
       "      <td>6676.9</td>\n",
       "      <td>NaN</td>\n",
       "      <td>NaN</td>\n",
       "      <td>NaN</td>\n",
       "      <td>6676.9</td>\n",
       "      <td>NaN</td>\n",
       "      <td>NaN</td>\n",
       "      <td>NaN</td>\n",
       "      <td>NaN</td>\n",
       "      <td>NaN</td>\n",
       "    </tr>\n",
       "    <tr>\n",
       "      <th>198</th>\n",
       "      <td>P42574</td>\n",
       "      <td>CN(Cc1ccc(O)c(C(=O)O)c1)Cc1ccc(C(=O)N[C@@H](CC...</td>\n",
       "      <td>NaN</td>\n",
       "      <td>NaN</td>\n",
       "      <td>NaN</td>\n",
       "      <td>90</td>\n",
       "      <td>NaN</td>\n",
       "      <td>NaN</td>\n",
       "      <td>NaN</td>\n",
       "      <td>90.0</td>\n",
       "      <td>NaN</td>\n",
       "      <td>180.0</td>\n",
       "    </tr>\n",
       "    <tr>\n",
       "      <th>199</th>\n",
       "      <td>P29466</td>\n",
       "      <td>O=C[C@H](CC(=O)O)NC(=O)c1ccc(CNS(=O)(=O)c2ccc(...</td>\n",
       "      <td>NaN</td>\n",
       "      <td>NaN</td>\n",
       "      <td>NaN</td>\n",
       "      <td>160</td>\n",
       "      <td>NaN</td>\n",
       "      <td>NaN</td>\n",
       "      <td>NaN</td>\n",
       "      <td>160.0</td>\n",
       "      <td>NaN</td>\n",
       "      <td>320.0</td>\n",
       "    </tr>\n",
       "    <tr>\n",
       "      <th>200</th>\n",
       "      <td>P29466</td>\n",
       "      <td>O=C[C@H](CC(=O)O)NC(=O)c1ccc(CNS(=O)(=O)c2ccc(...</td>\n",
       "      <td>NaN</td>\n",
       "      <td>NaN</td>\n",
       "      <td>NaN</td>\n",
       "      <td>3900</td>\n",
       "      <td>NaN</td>\n",
       "      <td>NaN</td>\n",
       "      <td>NaN</td>\n",
       "      <td>3900.0</td>\n",
       "      <td>NaN</td>\n",
       "      <td>7800.0</td>\n",
       "    </tr>\n",
       "    <tr>\n",
       "      <th>...</th>\n",
       "      <td>...</td>\n",
       "      <td>...</td>\n",
       "      <td>...</td>\n",
       "      <td>...</td>\n",
       "      <td>...</td>\n",
       "      <td>...</td>\n",
       "      <td>...</td>\n",
       "      <td>...</td>\n",
       "      <td>...</td>\n",
       "      <td>...</td>\n",
       "      <td>...</td>\n",
       "      <td>...</td>\n",
       "    </tr>\n",
       "    <tr>\n",
       "      <th>2036270</th>\n",
       "      <td>P07943</td>\n",
       "      <td>O=C(O)Cn1c(=O)c(CCc2ccccc2)nc2ccccc21</td>\n",
       "      <td>143</td>\n",
       "      <td>NaN</td>\n",
       "      <td>NaN</td>\n",
       "      <td>NaN</td>\n",
       "      <td>143.0</td>\n",
       "      <td>NaN</td>\n",
       "      <td>NaN</td>\n",
       "      <td>NaN</td>\n",
       "      <td>NaN</td>\n",
       "      <td>NaN</td>\n",
       "    </tr>\n",
       "    <tr>\n",
       "      <th>2036271</th>\n",
       "      <td>P07943</td>\n",
       "      <td>CC(C)(C)NC(=O)/C=C/c1nc2ccccc2n(CC(=O)O)c1=O</td>\n",
       "      <td>1860</td>\n",
       "      <td>NaN</td>\n",
       "      <td>NaN</td>\n",
       "      <td>NaN</td>\n",
       "      <td>1860.0</td>\n",
       "      <td>NaN</td>\n",
       "      <td>NaN</td>\n",
       "      <td>NaN</td>\n",
       "      <td>NaN</td>\n",
       "      <td>NaN</td>\n",
       "    </tr>\n",
       "    <tr>\n",
       "      <th>2036272</th>\n",
       "      <td>P07943</td>\n",
       "      <td>O=C(O)Cn1c(=O)c(/C=C/c2ccc(F)cc2)nc2cc(Cl)ccc21</td>\n",
       "      <td>660</td>\n",
       "      <td>NaN</td>\n",
       "      <td>NaN</td>\n",
       "      <td>NaN</td>\n",
       "      <td>660.0</td>\n",
       "      <td>NaN</td>\n",
       "      <td>NaN</td>\n",
       "      <td>NaN</td>\n",
       "      <td>NaN</td>\n",
       "      <td>NaN</td>\n",
       "    </tr>\n",
       "    <tr>\n",
       "      <th>2036273</th>\n",
       "      <td>P07943</td>\n",
       "      <td>O=C(O)Cn1c(=O)c(/C=C/c2ccccc2)nc2ccc(Cl)cc21</td>\n",
       "      <td>3880</td>\n",
       "      <td>NaN</td>\n",
       "      <td>NaN</td>\n",
       "      <td>NaN</td>\n",
       "      <td>3880.0</td>\n",
       "      <td>NaN</td>\n",
       "      <td>NaN</td>\n",
       "      <td>NaN</td>\n",
       "      <td>NaN</td>\n",
       "      <td>NaN</td>\n",
       "    </tr>\n",
       "    <tr>\n",
       "      <th>2036274</th>\n",
       "      <td>P07943</td>\n",
       "      <td>O=C(O)Cn1c(=O)c(/C=C/c2ccc(F)cc2)nc2ccccc21</td>\n",
       "      <td>1430</td>\n",
       "      <td>NaN</td>\n",
       "      <td>NaN</td>\n",
       "      <td>NaN</td>\n",
       "      <td>1430.0</td>\n",
       "      <td>NaN</td>\n",
       "      <td>NaN</td>\n",
       "      <td>NaN</td>\n",
       "      <td>NaN</td>\n",
       "      <td>NaN</td>\n",
       "    </tr>\n",
       "  </tbody>\n",
       "</table>\n",
       "<p>1743980 rows × 12 columns</p>\n",
       "</div>"
      ],
      "text/plain": [
       "        UniProt_S_ID                                   canonical_SMILES  \\\n",
       "142           P08684  Cc1nc(CN2CCN(c3c(Cl)cnc4[nH]c(-c5cn(C)nc5C)nc3...   \n",
       "144           P51570  O=C1CCCC2=C1C1(CCS(=O)(=O)C1)N=C(Nc1nc3ccccc3o...   \n",
       "198           P42574  CN(Cc1ccc(O)c(C(=O)O)c1)Cc1ccc(C(=O)N[C@@H](CC...   \n",
       "199           P29466  O=C[C@H](CC(=O)O)NC(=O)c1ccc(CNS(=O)(=O)c2ccc(...   \n",
       "200           P29466  O=C[C@H](CC(=O)O)NC(=O)c1ccc(CNS(=O)(=O)c2ccc(...   \n",
       "...              ...                                                ...   \n",
       "2036270       P07943              O=C(O)Cn1c(=O)c(CCc2ccccc2)nc2ccccc21   \n",
       "2036271       P07943       CC(C)(C)NC(=O)/C=C/c1nc2ccccc2n(CC(=O)O)c1=O   \n",
       "2036272       P07943    O=C(O)Cn1c(=O)c(/C=C/c2ccc(F)cc2)nc2cc(Cl)ccc21   \n",
       "2036273       P07943       O=C(O)Cn1c(=O)c(/C=C/c2ccccc2)nc2ccc(Cl)cc21   \n",
       "2036274       P07943        O=C(O)Cn1c(=O)c(/C=C/c2ccc(F)cc2)nc2ccccc21   \n",
       "\n",
       "            IC50   Kd EC50     Ki  IC50_n  Kd_n  EC50_n    Ki_n  Kd_m    Ki_m  \n",
       "142       >50000  NaN  NaN    NaN     NaN   NaN     NaN     NaN   NaN     NaN  \n",
       "144       6676.9  NaN  NaN    NaN  6676.9   NaN     NaN     NaN   NaN     NaN  \n",
       "198          NaN  NaN  NaN     90     NaN   NaN     NaN    90.0   NaN   180.0  \n",
       "199          NaN  NaN  NaN    160     NaN   NaN     NaN   160.0   NaN   320.0  \n",
       "200          NaN  NaN  NaN   3900     NaN   NaN     NaN  3900.0   NaN  7800.0  \n",
       "...          ...  ...  ...    ...     ...   ...     ...     ...   ...     ...  \n",
       "2036270      143  NaN  NaN    NaN   143.0   NaN     NaN     NaN   NaN     NaN  \n",
       "2036271     1860  NaN  NaN    NaN  1860.0   NaN     NaN     NaN   NaN     NaN  \n",
       "2036272      660  NaN  NaN    NaN   660.0   NaN     NaN     NaN   NaN     NaN  \n",
       "2036273     3880  NaN  NaN    NaN  3880.0   NaN     NaN     NaN   NaN     NaN  \n",
       "2036274     1430  NaN  NaN    NaN  1430.0   NaN     NaN     NaN   NaN     NaN  \n",
       "\n",
       "[1743980 rows x 12 columns]"
      ]
     },
     "execution_count": 17,
     "metadata": {},
     "output_type": "execute_result"
    }
   ],
   "source": [
    "all_interactions[['UniProt_S_ID', 'canonical_SMILES', 'IC50', 'Kd', 'EC50', 'Ki', 'IC50_n', 'Kd_n', 'EC50_n', 'Ki_n', 'Kd_m', 'Ki_m']]"
   ]
  },
  {
   "cell_type": "code",
   "execution_count": 18,
   "metadata": {},
   "outputs": [
    {
     "name": "stderr",
     "output_type": "stream",
     "text": [
      " 13%|████████▉                                                             | 179657/1414261 [00:07<00:46, 26432.06it/s]C:\\Users\\gokce\\Anaconda3\\envs\\transformers\\lib\\site-packages\\scipy\\stats\\stats.py:402: RuntimeWarning: divide by zero encountered in log\n",
      "  log_a = np.log(np.array(a, dtype=dtype))\n",
      "100%|█████████████████████████████████████████████████████████████████████| 1414261/1414261 [01:08<00:00, 20786.26it/s]\n",
      "100%|█████████████████████████████████████████████████████████████████████| 1414261/1414261 [01:12<00:00, 19565.47it/s]\n"
     ]
    }
   ],
   "source": [
    "mean_affinity_metrics = ['IC50_n', 'Ki_m', 'EC50_n', 'Kd_m']\n",
    "mean_affinity_metrics_n = ['IC50_n', 'Ki_n', 'EC50_n', 'Kd_n']\n",
    "from scipy.stats.mstats import gmean\n",
    "def geometric_mean(row, metrics):\n",
    "    return gmean([row[metric] for metric in metrics if not pd.isnull(row[metric])])\n",
    "all_interactions.dropna(axis=0, subset=['IC50_n', 'Ki_n', 'EC50_n', 'Kd_n'], how='all', inplace=True)\n",
    "all_interactions['XC50_mean'] = all_interactions.progress_apply(geometric_mean, metrics=mean_affinity_metrics, axis=1)\n",
    "all_interactions['XC50_mean_n'] = all_interactions.progress_apply(geometric_mean, metrics=mean_affinity_metrics_n, axis=1)"
   ]
  },
  {
   "cell_type": "code",
   "execution_count": 19,
   "metadata": {},
   "outputs": [],
   "source": [
    "all_interactions_gmean = all_interactions.groupby(['UniProt_S_ID', 'canonical_SMILES'])['XC50_mean'].apply(gmean).rename(\"XC50\").reset_index()\n",
    "all_interactions_gmean_n = all_interactions.groupby(['UniProt_S_ID', 'canonical_SMILES'])['XC50_mean_n'].apply(gmean).rename(\"XC50_n\").reset_index()"
   ]
  },
  {
   "cell_type": "code",
   "execution_count": 20,
   "metadata": {},
   "outputs": [
    {
     "data": {
      "text/plain": [
       "(1414261, 1093710)"
      ]
     },
     "execution_count": 20,
     "metadata": {},
     "output_type": "execute_result"
    }
   ],
   "source": [
    "all_interactions_gmean = all_interactions_gmean.reset_index()\n",
    "all_interactions.shape[0], all_interactions_gmean.shape[0]"
   ]
  },
  {
   "cell_type": "code",
   "execution_count": 21,
   "metadata": {},
   "outputs": [
    {
     "data": {
      "text/html": [
       "<div>\n",
       "<style scoped>\n",
       "    .dataframe tbody tr th:only-of-type {\n",
       "        vertical-align: middle;\n",
       "    }\n",
       "\n",
       "    .dataframe tbody tr th {\n",
       "        vertical-align: top;\n",
       "    }\n",
       "\n",
       "    .dataframe thead th {\n",
       "        text-align: right;\n",
       "    }\n",
       "</style>\n",
       "<table border=\"1\" class=\"dataframe\">\n",
       "  <thead>\n",
       "    <tr style=\"text-align: right;\">\n",
       "      <th></th>\n",
       "      <th>UniProt_S_ID</th>\n",
       "      <th>canonical_SMILES</th>\n",
       "      <th>XC50_n</th>\n",
       "      <th>index</th>\n",
       "      <th>XC50</th>\n",
       "      <th>BindingDB_ID</th>\n",
       "      <th>SMILES</th>\n",
       "      <th>ligand_name</th>\n",
       "      <th>target_name</th>\n",
       "      <th>target_organism</th>\n",
       "      <th>...</th>\n",
       "      <th>UniProt_T_alt_IDs</th>\n",
       "      <th>MolWt</th>\n",
       "      <th>IC50_n</th>\n",
       "      <th>Ki_n</th>\n",
       "      <th>EC50_n</th>\n",
       "      <th>Kd_n</th>\n",
       "      <th>Ki_m</th>\n",
       "      <th>Kd_m</th>\n",
       "      <th>XC50_mean</th>\n",
       "      <th>XC50_mean_n</th>\n",
       "    </tr>\n",
       "  </thead>\n",
       "  <tbody>\n",
       "    <tr>\n",
       "      <th>0</th>\n",
       "      <td>A0A087WW23</td>\n",
       "      <td>CCC(CC)(Cc1nc2c(F)cc(OCc3ccc(C)cn3)cc2n1Cc1ccc...</td>\n",
       "      <td>6.0</td>\n",
       "      <td>0</td>\n",
       "      <td>12.0</td>\n",
       "      <td>282503</td>\n",
       "      <td>CCC(CC)(Cc1nc2c(F)cc(OCc3ccc(C)cn3)cc2n1Cc1ccc...</td>\n",
       "      <td>US8952177, 65::US9089569, 65::US9695149, 65</td>\n",
       "      <td>5-lipoxygenase-activating protein (FLAP)</td>\n",
       "      <td>NaN</td>\n",
       "      <td>...</td>\n",
       "      <td>NaN</td>\n",
       "      <td>553.138</td>\n",
       "      <td>NaN</td>\n",
       "      <td>6.0</td>\n",
       "      <td>NaN</td>\n",
       "      <td>NaN</td>\n",
       "      <td>12.0</td>\n",
       "      <td>NaN</td>\n",
       "      <td>12.0</td>\n",
       "      <td>6.0</td>\n",
       "    </tr>\n",
       "    <tr>\n",
       "      <th>1</th>\n",
       "      <td>A0A087WW23</td>\n",
       "      <td>CCC(CC)(Cc1nc2c(F)cc(OCc3ccc(C)cn3)cc2n1Cc1ccc...</td>\n",
       "      <td>49.0</td>\n",
       "      <td>1</td>\n",
       "      <td>98.0</td>\n",
       "      <td>282509</td>\n",
       "      <td>CCC(CC)(Cc1nc2c(F)cc(OCc3ccc(C)cn3)cc2n1Cc1ccc...</td>\n",
       "      <td>US8952177, 71::US9089569, 71::US9695149, 71</td>\n",
       "      <td>5-lipoxygenase-activating protein (FLAP)</td>\n",
       "      <td>NaN</td>\n",
       "      <td>...</td>\n",
       "      <td>NaN</td>\n",
       "      <td>489.243</td>\n",
       "      <td>NaN</td>\n",
       "      <td>49.0</td>\n",
       "      <td>NaN</td>\n",
       "      <td>NaN</td>\n",
       "      <td>98.0</td>\n",
       "      <td>NaN</td>\n",
       "      <td>98.0</td>\n",
       "      <td>49.0</td>\n",
       "    </tr>\n",
       "    <tr>\n",
       "      <th>2</th>\n",
       "      <td>A0A087WW23</td>\n",
       "      <td>CCC(CC)(Cc1nc2c(F)cc(OCc3ccc(C)cn3)cc2n1Cc1ccc...</td>\n",
       "      <td>17.0</td>\n",
       "      <td>2</td>\n",
       "      <td>34.0</td>\n",
       "      <td>282507</td>\n",
       "      <td>CCC(CC)(Cc1nc2c(F)cc(OCc3ccc(C)cn3)cc2n1Cc1ccc...</td>\n",
       "      <td>US8952177, 69::US9089569, 69::US9695149, 69</td>\n",
       "      <td>5-lipoxygenase-activating protein (FLAP)</td>\n",
       "      <td>NaN</td>\n",
       "      <td>...</td>\n",
       "      <td>NaN</td>\n",
       "      <td>559.209</td>\n",
       "      <td>NaN</td>\n",
       "      <td>17.0</td>\n",
       "      <td>NaN</td>\n",
       "      <td>NaN</td>\n",
       "      <td>34.0</td>\n",
       "      <td>NaN</td>\n",
       "      <td>34.0</td>\n",
       "      <td>17.0</td>\n",
       "    </tr>\n",
       "    <tr>\n",
       "      <th>3</th>\n",
       "      <td>A0A087WW23</td>\n",
       "      <td>CCC(CC)(Cc1nc2ccc(OCc3ccc(C)cn3)cc2n1Cc1ccc(Br...</td>\n",
       "      <td>10.0</td>\n",
       "      <td>3</td>\n",
       "      <td>20.0</td>\n",
       "      <td>282446</td>\n",
       "      <td>CCC(CC)(Cc1nc2ccc(OCc3ccc(C)cn3)cc2n1Cc1ccc(Br...</td>\n",
       "      <td>US8952177, 8::US9089569, 8::US9695149, 8</td>\n",
       "      <td>5-lipoxygenase-activating protein (FLAP)</td>\n",
       "      <td>NaN</td>\n",
       "      <td>...</td>\n",
       "      <td>NaN</td>\n",
       "      <td>535.147</td>\n",
       "      <td>NaN</td>\n",
       "      <td>10.0</td>\n",
       "      <td>NaN</td>\n",
       "      <td>NaN</td>\n",
       "      <td>20.0</td>\n",
       "      <td>NaN</td>\n",
       "      <td>20.0</td>\n",
       "      <td>10.0</td>\n",
       "    </tr>\n",
       "    <tr>\n",
       "      <th>4</th>\n",
       "      <td>A0A087WW23</td>\n",
       "      <td>CCC(CC)(Cc1nc2ccc(OCc3ccc(C)cn3)cc2n1Cc1ccc(C#...</td>\n",
       "      <td>750.0</td>\n",
       "      <td>4</td>\n",
       "      <td>1500.0</td>\n",
       "      <td>282457</td>\n",
       "      <td>CCC(CC)(Cc1nc2ccc(OCc3ccc(C)cn3)cc2n1Cc1ccc(cc...</td>\n",
       "      <td>US8952177, 19::US9089569, 19::US9695149, 19</td>\n",
       "      <td>5-lipoxygenase-activating protein (FLAP)</td>\n",
       "      <td>NaN</td>\n",
       "      <td>...</td>\n",
       "      <td>NaN</td>\n",
       "      <td>482.232</td>\n",
       "      <td>NaN</td>\n",
       "      <td>750.0</td>\n",
       "      <td>NaN</td>\n",
       "      <td>NaN</td>\n",
       "      <td>1500.0</td>\n",
       "      <td>NaN</td>\n",
       "      <td>1500.0</td>\n",
       "      <td>750.0</td>\n",
       "    </tr>\n",
       "  </tbody>\n",
       "</table>\n",
       "<p>5 rows × 43 columns</p>\n",
       "</div>"
      ],
      "text/plain": [
       "  UniProt_S_ID                                   canonical_SMILES  XC50_n  \\\n",
       "0   A0A087WW23  CCC(CC)(Cc1nc2c(F)cc(OCc3ccc(C)cn3)cc2n1Cc1ccc...     6.0   \n",
       "1   A0A087WW23  CCC(CC)(Cc1nc2c(F)cc(OCc3ccc(C)cn3)cc2n1Cc1ccc...    49.0   \n",
       "2   A0A087WW23  CCC(CC)(Cc1nc2c(F)cc(OCc3ccc(C)cn3)cc2n1Cc1ccc...    17.0   \n",
       "3   A0A087WW23  CCC(CC)(Cc1nc2ccc(OCc3ccc(C)cn3)cc2n1Cc1ccc(Br...    10.0   \n",
       "4   A0A087WW23  CCC(CC)(Cc1nc2ccc(OCc3ccc(C)cn3)cc2n1Cc1ccc(C#...   750.0   \n",
       "\n",
       "   index    XC50  BindingDB_ID  \\\n",
       "0      0    12.0        282503   \n",
       "1      1    98.0        282509   \n",
       "2      2    34.0        282507   \n",
       "3      3    20.0        282446   \n",
       "4      4  1500.0        282457   \n",
       "\n",
       "                                              SMILES  \\\n",
       "0  CCC(CC)(Cc1nc2c(F)cc(OCc3ccc(C)cn3)cc2n1Cc1ccc...   \n",
       "1  CCC(CC)(Cc1nc2c(F)cc(OCc3ccc(C)cn3)cc2n1Cc1ccc...   \n",
       "2  CCC(CC)(Cc1nc2c(F)cc(OCc3ccc(C)cn3)cc2n1Cc1ccc...   \n",
       "3  CCC(CC)(Cc1nc2ccc(OCc3ccc(C)cn3)cc2n1Cc1ccc(Br...   \n",
       "4  CCC(CC)(Cc1nc2ccc(OCc3ccc(C)cn3)cc2n1Cc1ccc(cc...   \n",
       "\n",
       "                                   ligand_name  \\\n",
       "0  US8952177, 65::US9089569, 65::US9695149, 65   \n",
       "1  US8952177, 71::US9089569, 71::US9695149, 71   \n",
       "2  US8952177, 69::US9089569, 69::US9695149, 69   \n",
       "3     US8952177, 8::US9089569, 8::US9695149, 8   \n",
       "4  US8952177, 19::US9089569, 19::US9695149, 19   \n",
       "\n",
       "                                target_name target_organism  ...  \\\n",
       "0  5-lipoxygenase-activating protein (FLAP)             NaN  ...   \n",
       "1  5-lipoxygenase-activating protein (FLAP)             NaN  ...   \n",
       "2  5-lipoxygenase-activating protein (FLAP)             NaN  ...   \n",
       "3  5-lipoxygenase-activating protein (FLAP)             NaN  ...   \n",
       "4  5-lipoxygenase-activating protein (FLAP)             NaN  ...   \n",
       "\n",
       "  UniProt_T_alt_IDs    MolWt IC50_n   Ki_n EC50_n Kd_n    Ki_m  Kd_m  \\\n",
       "0               NaN  553.138    NaN    6.0    NaN  NaN    12.0   NaN   \n",
       "1               NaN  489.243    NaN   49.0    NaN  NaN    98.0   NaN   \n",
       "2               NaN  559.209    NaN   17.0    NaN  NaN    34.0   NaN   \n",
       "3               NaN  535.147    NaN   10.0    NaN  NaN    20.0   NaN   \n",
       "4               NaN  482.232    NaN  750.0    NaN  NaN  1500.0   NaN   \n",
       "\n",
       "   XC50_mean  XC50_mean_n  \n",
       "0       12.0          6.0  \n",
       "1       98.0         49.0  \n",
       "2       34.0         17.0  \n",
       "3       20.0         10.0  \n",
       "4     1500.0        750.0  \n",
       "\n",
       "[5 rows x 43 columns]"
      ]
     },
     "execution_count": 21,
     "metadata": {},
     "output_type": "execute_result"
    }
   ],
   "source": [
    "all_data = pd.merge(all_interactions_gmean, all_interactions, on=['UniProt_S_ID', 'canonical_SMILES'], how='left')\n",
    "all_data = pd.merge(all_interactions_gmean_n, all_data, on=['UniProt_S_ID', 'canonical_SMILES'], how='left')\n",
    "all_data.head()"
   ]
  },
  {
   "cell_type": "code",
   "execution_count": 22,
   "metadata": {},
   "outputs": [
    {
     "data": {
      "text/plain": [
       "1414261"
      ]
     },
     "execution_count": 22,
     "metadata": {},
     "output_type": "execute_result"
    }
   ],
   "source": [
    "all_data['gmean'] = np.where(all_data['XC50'] < 100, 1, 0)\n",
    "all_data['gmean_n'] = np.where(all_data['XC50_n'] < 100, 1, 0)\n",
    "all_data.shape[0]"
   ]
  },
  {
   "cell_type": "code",
   "execution_count": 23,
   "metadata": {},
   "outputs": [],
   "source": [
    "all_data.to_csv('../data/BindingDB_filtered_dup_gmean.csv', index=False)"
   ]
  },
  {
   "cell_type": "code",
   "execution_count": 24,
   "metadata": {},
   "outputs": [],
   "source": [
    "interaction_data = all_data.drop_duplicates(subset=['UniProt_S_ID', 'canonical_SMILES'], keep='first')"
   ]
  },
  {
   "cell_type": "code",
   "execution_count": 25,
   "metadata": {},
   "outputs": [
    {
     "data": {
      "text/html": [
       "<div>\n",
       "<style scoped>\n",
       "    .dataframe tbody tr th:only-of-type {\n",
       "        vertical-align: middle;\n",
       "    }\n",
       "\n",
       "    .dataframe tbody tr th {\n",
       "        vertical-align: top;\n",
       "    }\n",
       "\n",
       "    .dataframe thead th {\n",
       "        text-align: right;\n",
       "    }\n",
       "</style>\n",
       "<table border=\"1\" class=\"dataframe\">\n",
       "  <thead>\n",
       "    <tr style=\"text-align: right;\">\n",
       "      <th></th>\n",
       "      <th>UniProt_S_ID</th>\n",
       "      <th>canonical_SMILES</th>\n",
       "      <th>XC50_n</th>\n",
       "      <th>index</th>\n",
       "      <th>XC50</th>\n",
       "      <th>BindingDB_ID</th>\n",
       "      <th>SMILES</th>\n",
       "      <th>ligand_name</th>\n",
       "      <th>target_name</th>\n",
       "      <th>target_organism</th>\n",
       "      <th>...</th>\n",
       "      <th>IC50_n</th>\n",
       "      <th>Ki_n</th>\n",
       "      <th>EC50_n</th>\n",
       "      <th>Kd_n</th>\n",
       "      <th>Ki_m</th>\n",
       "      <th>Kd_m</th>\n",
       "      <th>XC50_mean</th>\n",
       "      <th>XC50_mean_n</th>\n",
       "      <th>gmean</th>\n",
       "      <th>gmean_n</th>\n",
       "    </tr>\n",
       "  </thead>\n",
       "  <tbody>\n",
       "    <tr>\n",
       "      <th>0</th>\n",
       "      <td>A0A087WW23</td>\n",
       "      <td>CCC(CC)(Cc1nc2c(F)cc(OCc3ccc(C)cn3)cc2n1Cc1ccc...</td>\n",
       "      <td>6.000000</td>\n",
       "      <td>0</td>\n",
       "      <td>12.000000</td>\n",
       "      <td>282503</td>\n",
       "      <td>CCC(CC)(Cc1nc2c(F)cc(OCc3ccc(C)cn3)cc2n1Cc1ccc...</td>\n",
       "      <td>US8952177, 65::US9089569, 65::US9695149, 65</td>\n",
       "      <td>5-lipoxygenase-activating protein (FLAP)</td>\n",
       "      <td>NaN</td>\n",
       "      <td>...</td>\n",
       "      <td>NaN</td>\n",
       "      <td>6.0</td>\n",
       "      <td>NaN</td>\n",
       "      <td>NaN</td>\n",
       "      <td>12.0</td>\n",
       "      <td>NaN</td>\n",
       "      <td>12.0</td>\n",
       "      <td>6.0</td>\n",
       "      <td>1</td>\n",
       "      <td>1</td>\n",
       "    </tr>\n",
       "    <tr>\n",
       "      <th>1</th>\n",
       "      <td>A0A087WW23</td>\n",
       "      <td>CCC(CC)(Cc1nc2c(F)cc(OCc3ccc(C)cn3)cc2n1Cc1ccc...</td>\n",
       "      <td>49.000000</td>\n",
       "      <td>1</td>\n",
       "      <td>98.000000</td>\n",
       "      <td>282509</td>\n",
       "      <td>CCC(CC)(Cc1nc2c(F)cc(OCc3ccc(C)cn3)cc2n1Cc1ccc...</td>\n",
       "      <td>US8952177, 71::US9089569, 71::US9695149, 71</td>\n",
       "      <td>5-lipoxygenase-activating protein (FLAP)</td>\n",
       "      <td>NaN</td>\n",
       "      <td>...</td>\n",
       "      <td>NaN</td>\n",
       "      <td>49.0</td>\n",
       "      <td>NaN</td>\n",
       "      <td>NaN</td>\n",
       "      <td>98.0</td>\n",
       "      <td>NaN</td>\n",
       "      <td>98.0</td>\n",
       "      <td>49.0</td>\n",
       "      <td>1</td>\n",
       "      <td>1</td>\n",
       "    </tr>\n",
       "    <tr>\n",
       "      <th>2</th>\n",
       "      <td>A0A087WW23</td>\n",
       "      <td>CCC(CC)(Cc1nc2c(F)cc(OCc3ccc(C)cn3)cc2n1Cc1ccc...</td>\n",
       "      <td>17.000000</td>\n",
       "      <td>2</td>\n",
       "      <td>34.000000</td>\n",
       "      <td>282507</td>\n",
       "      <td>CCC(CC)(Cc1nc2c(F)cc(OCc3ccc(C)cn3)cc2n1Cc1ccc...</td>\n",
       "      <td>US8952177, 69::US9089569, 69::US9695149, 69</td>\n",
       "      <td>5-lipoxygenase-activating protein (FLAP)</td>\n",
       "      <td>NaN</td>\n",
       "      <td>...</td>\n",
       "      <td>NaN</td>\n",
       "      <td>17.0</td>\n",
       "      <td>NaN</td>\n",
       "      <td>NaN</td>\n",
       "      <td>34.0</td>\n",
       "      <td>NaN</td>\n",
       "      <td>34.0</td>\n",
       "      <td>17.0</td>\n",
       "      <td>1</td>\n",
       "      <td>1</td>\n",
       "    </tr>\n",
       "    <tr>\n",
       "      <th>3</th>\n",
       "      <td>A0A087WW23</td>\n",
       "      <td>CCC(CC)(Cc1nc2ccc(OCc3ccc(C)cn3)cc2n1Cc1ccc(Br...</td>\n",
       "      <td>10.000000</td>\n",
       "      <td>3</td>\n",
       "      <td>20.000000</td>\n",
       "      <td>282446</td>\n",
       "      <td>CCC(CC)(Cc1nc2ccc(OCc3ccc(C)cn3)cc2n1Cc1ccc(Br...</td>\n",
       "      <td>US8952177, 8::US9089569, 8::US9695149, 8</td>\n",
       "      <td>5-lipoxygenase-activating protein (FLAP)</td>\n",
       "      <td>NaN</td>\n",
       "      <td>...</td>\n",
       "      <td>NaN</td>\n",
       "      <td>10.0</td>\n",
       "      <td>NaN</td>\n",
       "      <td>NaN</td>\n",
       "      <td>20.0</td>\n",
       "      <td>NaN</td>\n",
       "      <td>20.0</td>\n",
       "      <td>10.0</td>\n",
       "      <td>1</td>\n",
       "      <td>1</td>\n",
       "    </tr>\n",
       "    <tr>\n",
       "      <th>4</th>\n",
       "      <td>A0A087WW23</td>\n",
       "      <td>CCC(CC)(Cc1nc2ccc(OCc3ccc(C)cn3)cc2n1Cc1ccc(C#...</td>\n",
       "      <td>750.000000</td>\n",
       "      <td>4</td>\n",
       "      <td>1500.000000</td>\n",
       "      <td>282457</td>\n",
       "      <td>CCC(CC)(Cc1nc2ccc(OCc3ccc(C)cn3)cc2n1Cc1ccc(cc...</td>\n",
       "      <td>US8952177, 19::US9089569, 19::US9695149, 19</td>\n",
       "      <td>5-lipoxygenase-activating protein (FLAP)</td>\n",
       "      <td>NaN</td>\n",
       "      <td>...</td>\n",
       "      <td>NaN</td>\n",
       "      <td>750.0</td>\n",
       "      <td>NaN</td>\n",
       "      <td>NaN</td>\n",
       "      <td>1500.0</td>\n",
       "      <td>NaN</td>\n",
       "      <td>1500.0</td>\n",
       "      <td>750.0</td>\n",
       "      <td>0</td>\n",
       "      <td>0</td>\n",
       "    </tr>\n",
       "    <tr>\n",
       "      <th>...</th>\n",
       "      <td>...</td>\n",
       "      <td>...</td>\n",
       "      <td>...</td>\n",
       "      <td>...</td>\n",
       "      <td>...</td>\n",
       "      <td>...</td>\n",
       "      <td>...</td>\n",
       "      <td>...</td>\n",
       "      <td>...</td>\n",
       "      <td>...</td>\n",
       "      <td>...</td>\n",
       "      <td>...</td>\n",
       "      <td>...</td>\n",
       "      <td>...</td>\n",
       "      <td>...</td>\n",
       "      <td>...</td>\n",
       "      <td>...</td>\n",
       "      <td>...</td>\n",
       "      <td>...</td>\n",
       "      <td>...</td>\n",
       "      <td>...</td>\n",
       "    </tr>\n",
       "    <tr>\n",
       "      <th>1414255</th>\n",
       "      <td>V9GZ37</td>\n",
       "      <td>O=C(Oc1ccc2ccccc2c1)c1ccc2c(c1)C1C=CCC1C(C(=O)...</td>\n",
       "      <td>43900.000000</td>\n",
       "      <td>1093705</td>\n",
       "      <td>43900.000000</td>\n",
       "      <td>78413</td>\n",
       "      <td>OC(=O)C1Nc2ccc(cc2C2C=CCC12)C(=O)Oc1ccc2ccccc2c1</td>\n",
       "      <td>8-(2-naphthoxycarbonyl)-3a,4,5,9b-tetrahydro-3...</td>\n",
       "      <td>Heat Shock 70kDa Protein 1</td>\n",
       "      <td>Homo sapiens</td>\n",
       "      <td>...</td>\n",
       "      <td>43900.0</td>\n",
       "      <td>NaN</td>\n",
       "      <td>NaN</td>\n",
       "      <td>NaN</td>\n",
       "      <td>NaN</td>\n",
       "      <td>NaN</td>\n",
       "      <td>43900.0</td>\n",
       "      <td>43900.0</td>\n",
       "      <td>0</td>\n",
       "      <td>0</td>\n",
       "    </tr>\n",
       "    <tr>\n",
       "      <th>1414256</th>\n",
       "      <td>V9GZ37</td>\n",
       "      <td>O=C1C=C2CC3(O)CCc4c(ccc(O)c4O)C3=C2CC1=O</td>\n",
       "      <td>34200.000000</td>\n",
       "      <td>1093706</td>\n",
       "      <td>34200.000000</td>\n",
       "      <td>78430</td>\n",
       "      <td>Oc1ccc2C3=C4CC(=O)C(=O)C=C4CC3(O)CCc2c1O</td>\n",
       "      <td>3,4,6a,10-tetrahydroxy-6,7-dihydro-5H-benzo[g]...</td>\n",
       "      <td>Heat Shock 70kDa Protein 1</td>\n",
       "      <td>Homo sapiens</td>\n",
       "      <td>...</td>\n",
       "      <td>34200.0</td>\n",
       "      <td>NaN</td>\n",
       "      <td>NaN</td>\n",
       "      <td>NaN</td>\n",
       "      <td>NaN</td>\n",
       "      <td>NaN</td>\n",
       "      <td>34200.0</td>\n",
       "      <td>34200.0</td>\n",
       "      <td>0</td>\n",
       "      <td>0</td>\n",
       "    </tr>\n",
       "    <tr>\n",
       "      <th>1414257</th>\n",
       "      <td>V9GZ37</td>\n",
       "      <td>O=c1nc(C(F)(F)F)cc(C=Cc2cc([N+](=O)[O-])ccc2Cl...</td>\n",
       "      <td>46400.000000</td>\n",
       "      <td>1093707</td>\n",
       "      <td>46400.000000</td>\n",
       "      <td>57068</td>\n",
       "      <td>[O-][N+](=O)c1ccc(Cl)c(C=Cc2cc(nc(=O)[nH]2)C(F...</td>\n",
       "      <td>4-[(E)-2-(2-chloranyl-5-nitro-phenyl)ethenyl]-...</td>\n",
       "      <td>Heat Shock 70kDa Protein 1</td>\n",
       "      <td>Homo sapiens</td>\n",
       "      <td>...</td>\n",
       "      <td>46400.0</td>\n",
       "      <td>NaN</td>\n",
       "      <td>NaN</td>\n",
       "      <td>NaN</td>\n",
       "      <td>NaN</td>\n",
       "      <td>NaN</td>\n",
       "      <td>46400.0</td>\n",
       "      <td>46400.0</td>\n",
       "      <td>0</td>\n",
       "      <td>0</td>\n",
       "    </tr>\n",
       "    <tr>\n",
       "      <th>1414258</th>\n",
       "      <td>V9GZ37</td>\n",
       "      <td>O=c1oc2c(O)c(O)cc3c(=O)oc4c(O)c(O)cc1c4c23</td>\n",
       "      <td>760.000000</td>\n",
       "      <td>1093708</td>\n",
       "      <td>760.000000</td>\n",
       "      <td>57058</td>\n",
       "      <td>Oc1cc2c3c(oc(=O)c4cc(O)c(O)c(oc2=O)c34)c1O</td>\n",
       "      <td>6,7,13,14-tetrahydroxy-2,9-dioxatetracyclo[6.6...</td>\n",
       "      <td>Heat Shock 70kDa Protein 1</td>\n",
       "      <td>Homo sapiens</td>\n",
       "      <td>...</td>\n",
       "      <td>760.0</td>\n",
       "      <td>NaN</td>\n",
       "      <td>NaN</td>\n",
       "      <td>NaN</td>\n",
       "      <td>NaN</td>\n",
       "      <td>NaN</td>\n",
       "      <td>760.0</td>\n",
       "      <td>760.0</td>\n",
       "      <td>0</td>\n",
       "      <td>0</td>\n",
       "    </tr>\n",
       "    <tr>\n",
       "      <th>1414259</th>\n",
       "      <td>V9GZ37</td>\n",
       "      <td>Oc1c(Cl)cc(Cl)c(Cl)c1Cc1c(O)c(Cl)cc(Cl)c1Cl</td>\n",
       "      <td>19349.418596</td>\n",
       "      <td>1093709</td>\n",
       "      <td>19349.418596</td>\n",
       "      <td>57059</td>\n",
       "      <td>Oc1c(Cl)cc(Cl)c(Cl)c1Cc1c(O)c(Cl)cc(Cl)c1Cl</td>\n",
       "      <td>HEXACHLOROPHENE::MLS000028433::SMR000058356::c...</td>\n",
       "      <td>Heat Shock 70kDa Protein 1</td>\n",
       "      <td>Homo sapiens</td>\n",
       "      <td>...</td>\n",
       "      <td>19500.0</td>\n",
       "      <td>NaN</td>\n",
       "      <td>NaN</td>\n",
       "      <td>NaN</td>\n",
       "      <td>NaN</td>\n",
       "      <td>NaN</td>\n",
       "      <td>19500.0</td>\n",
       "      <td>19500.0</td>\n",
       "      <td>0</td>\n",
       "      <td>0</td>\n",
       "    </tr>\n",
       "  </tbody>\n",
       "</table>\n",
       "<p>1093710 rows × 45 columns</p>\n",
       "</div>"
      ],
      "text/plain": [
       "        UniProt_S_ID                                   canonical_SMILES  \\\n",
       "0         A0A087WW23  CCC(CC)(Cc1nc2c(F)cc(OCc3ccc(C)cn3)cc2n1Cc1ccc...   \n",
       "1         A0A087WW23  CCC(CC)(Cc1nc2c(F)cc(OCc3ccc(C)cn3)cc2n1Cc1ccc...   \n",
       "2         A0A087WW23  CCC(CC)(Cc1nc2c(F)cc(OCc3ccc(C)cn3)cc2n1Cc1ccc...   \n",
       "3         A0A087WW23  CCC(CC)(Cc1nc2ccc(OCc3ccc(C)cn3)cc2n1Cc1ccc(Br...   \n",
       "4         A0A087WW23  CCC(CC)(Cc1nc2ccc(OCc3ccc(C)cn3)cc2n1Cc1ccc(C#...   \n",
       "...              ...                                                ...   \n",
       "1414255       V9GZ37  O=C(Oc1ccc2ccccc2c1)c1ccc2c(c1)C1C=CCC1C(C(=O)...   \n",
       "1414256       V9GZ37           O=C1C=C2CC3(O)CCc4c(ccc(O)c4O)C3=C2CC1=O   \n",
       "1414257       V9GZ37  O=c1nc(C(F)(F)F)cc(C=Cc2cc([N+](=O)[O-])ccc2Cl...   \n",
       "1414258       V9GZ37         O=c1oc2c(O)c(O)cc3c(=O)oc4c(O)c(O)cc1c4c23   \n",
       "1414259       V9GZ37        Oc1c(Cl)cc(Cl)c(Cl)c1Cc1c(O)c(Cl)cc(Cl)c1Cl   \n",
       "\n",
       "               XC50_n    index          XC50  BindingDB_ID  \\\n",
       "0            6.000000        0     12.000000        282503   \n",
       "1           49.000000        1     98.000000        282509   \n",
       "2           17.000000        2     34.000000        282507   \n",
       "3           10.000000        3     20.000000        282446   \n",
       "4          750.000000        4   1500.000000        282457   \n",
       "...               ...      ...           ...           ...   \n",
       "1414255  43900.000000  1093705  43900.000000         78413   \n",
       "1414256  34200.000000  1093706  34200.000000         78430   \n",
       "1414257  46400.000000  1093707  46400.000000         57068   \n",
       "1414258    760.000000  1093708    760.000000         57058   \n",
       "1414259  19349.418596  1093709  19349.418596         57059   \n",
       "\n",
       "                                                    SMILES  \\\n",
       "0        CCC(CC)(Cc1nc2c(F)cc(OCc3ccc(C)cn3)cc2n1Cc1ccc...   \n",
       "1        CCC(CC)(Cc1nc2c(F)cc(OCc3ccc(C)cn3)cc2n1Cc1ccc...   \n",
       "2        CCC(CC)(Cc1nc2c(F)cc(OCc3ccc(C)cn3)cc2n1Cc1ccc...   \n",
       "3        CCC(CC)(Cc1nc2ccc(OCc3ccc(C)cn3)cc2n1Cc1ccc(Br...   \n",
       "4        CCC(CC)(Cc1nc2ccc(OCc3ccc(C)cn3)cc2n1Cc1ccc(cc...   \n",
       "...                                                    ...   \n",
       "1414255   OC(=O)C1Nc2ccc(cc2C2C=CCC12)C(=O)Oc1ccc2ccccc2c1   \n",
       "1414256           Oc1ccc2C3=C4CC(=O)C(=O)C=C4CC3(O)CCc2c1O   \n",
       "1414257  [O-][N+](=O)c1ccc(Cl)c(C=Cc2cc(nc(=O)[nH]2)C(F...   \n",
       "1414258         Oc1cc2c3c(oc(=O)c4cc(O)c(O)c(oc2=O)c34)c1O   \n",
       "1414259        Oc1c(Cl)cc(Cl)c(Cl)c1Cc1c(O)c(Cl)cc(Cl)c1Cl   \n",
       "\n",
       "                                               ligand_name  \\\n",
       "0              US8952177, 65::US9089569, 65::US9695149, 65   \n",
       "1              US8952177, 71::US9089569, 71::US9695149, 71   \n",
       "2              US8952177, 69::US9089569, 69::US9695149, 69   \n",
       "3                 US8952177, 8::US9089569, 8::US9695149, 8   \n",
       "4              US8952177, 19::US9089569, 19::US9695149, 19   \n",
       "...                                                    ...   \n",
       "1414255  8-(2-naphthoxycarbonyl)-3a,4,5,9b-tetrahydro-3...   \n",
       "1414256  3,4,6a,10-tetrahydroxy-6,7-dihydro-5H-benzo[g]...   \n",
       "1414257  4-[(E)-2-(2-chloranyl-5-nitro-phenyl)ethenyl]-...   \n",
       "1414258  6,7,13,14-tetrahydroxy-2,9-dioxatetracyclo[6.6...   \n",
       "1414259  HEXACHLOROPHENE::MLS000028433::SMR000058356::c...   \n",
       "\n",
       "                                      target_name target_organism  ...  \\\n",
       "0        5-lipoxygenase-activating protein (FLAP)             NaN  ...   \n",
       "1        5-lipoxygenase-activating protein (FLAP)             NaN  ...   \n",
       "2        5-lipoxygenase-activating protein (FLAP)             NaN  ...   \n",
       "3        5-lipoxygenase-activating protein (FLAP)             NaN  ...   \n",
       "4        5-lipoxygenase-activating protein (FLAP)             NaN  ...   \n",
       "...                                           ...             ...  ...   \n",
       "1414255                Heat Shock 70kDa Protein 1    Homo sapiens  ...   \n",
       "1414256                Heat Shock 70kDa Protein 1    Homo sapiens  ...   \n",
       "1414257                Heat Shock 70kDa Protein 1    Homo sapiens  ...   \n",
       "1414258                Heat Shock 70kDa Protein 1    Homo sapiens  ...   \n",
       "1414259                Heat Shock 70kDa Protein 1    Homo sapiens  ...   \n",
       "\n",
       "          IC50_n   Ki_n EC50_n Kd_n    Ki_m Kd_m XC50_mean  XC50_mean_n  \\\n",
       "0            NaN    6.0    NaN  NaN    12.0  NaN      12.0          6.0   \n",
       "1            NaN   49.0    NaN  NaN    98.0  NaN      98.0         49.0   \n",
       "2            NaN   17.0    NaN  NaN    34.0  NaN      34.0         17.0   \n",
       "3            NaN   10.0    NaN  NaN    20.0  NaN      20.0         10.0   \n",
       "4            NaN  750.0    NaN  NaN  1500.0  NaN    1500.0        750.0   \n",
       "...          ...    ...    ...  ...     ...  ...       ...          ...   \n",
       "1414255  43900.0    NaN    NaN  NaN     NaN  NaN   43900.0      43900.0   \n",
       "1414256  34200.0    NaN    NaN  NaN     NaN  NaN   34200.0      34200.0   \n",
       "1414257  46400.0    NaN    NaN  NaN     NaN  NaN   46400.0      46400.0   \n",
       "1414258    760.0    NaN    NaN  NaN     NaN  NaN     760.0        760.0   \n",
       "1414259  19500.0    NaN    NaN  NaN     NaN  NaN   19500.0      19500.0   \n",
       "\n",
       "         gmean  gmean_n  \n",
       "0            1        1  \n",
       "1            1        1  \n",
       "2            1        1  \n",
       "3            1        1  \n",
       "4            0        0  \n",
       "...        ...      ...  \n",
       "1414255      0        0  \n",
       "1414256      0        0  \n",
       "1414257      0        0  \n",
       "1414258      0        0  \n",
       "1414259      0        0  \n",
       "\n",
       "[1093710 rows x 45 columns]"
      ]
     },
     "execution_count": 25,
     "metadata": {},
     "output_type": "execute_result"
    }
   ],
   "source": [
    "interaction_data"
   ]
  },
  {
   "cell_type": "code",
   "execution_count": 26,
   "metadata": {},
   "outputs": [
    {
     "data": {
      "text/plain": [
       "(429930, 663780)"
      ]
     },
     "execution_count": 26,
     "metadata": {},
     "output_type": "execute_result"
    }
   ],
   "source": [
    "interaction_data[interaction_data['gmean'] == 1].shape[0], interaction_data[interaction_data['gmean'] == 0].shape[0]"
   ]
  },
  {
   "cell_type": "code",
   "execution_count": 27,
   "metadata": {},
   "outputs": [],
   "source": [
    "interaction_data.to_csv('../data/BindingDB_filtered_gmean.csv', index=False)"
   ]
  },
  {
   "cell_type": "code",
   "execution_count": 2,
   "metadata": {},
   "outputs": [
    {
     "name": "stderr",
     "output_type": "stream",
     "text": [
      "C:\\Users\\gokce\\Anaconda3\\envs\\transformers\\lib\\site-packages\\IPython\\core\\interactiveshell.py:3072: DtypeWarning: Columns (10,11,12,13) have mixed types.Specify dtype option on import or set low_memory=False.\n",
      "  interactivity=interactivity, compiler=compiler, result=result)\n"
     ]
    }
   ],
   "source": [
    "import pandas as pd\n",
    "interaction_data = pd.read_csv('../data/BindingDB_filtered_gmean.csv', index_col=False)"
   ]
  },
  {
   "cell_type": "code",
   "execution_count": 6,
   "metadata": {},
   "outputs": [
    {
     "data": {
      "text/plain": [
       "(1093710, 429930, 663780)"
      ]
     },
     "execution_count": 6,
     "metadata": {},
     "output_type": "execute_result"
    }
   ],
   "source": [
    "interaction_data.shape[0], interaction_data[interaction_data['gmean'] == 1].shape[0], interaction_data[interaction_data['gmean'] == 0].shape[0]"
   ]
  },
  {
   "cell_type": "code",
   "execution_count": 5,
   "metadata": {},
   "outputs": [
    {
     "data": {
      "text/plain": [
       "5117"
      ]
     },
     "execution_count": 5,
     "metadata": {},
     "output_type": "execute_result"
    }
   ],
   "source": [
    "interaction_data['UniProt_S_ID'].nuniqueique()"
   ]
  },
  {
   "cell_type": "code",
   "execution_count": 7,
   "metadata": {},
   "outputs": [
    {
     "data": {
      "text/plain": [
       "3126"
      ]
     },
     "execution_count": 7,
     "metadata": {},
     "output_type": "execute_result"
    }
   ],
   "source": [
    "interaction_data[interaction_data['gmean'] == 1]['UniProt_S_ID'].nunique()"
   ]
  },
  {
   "cell_type": "code",
   "execution_count": 8,
   "metadata": {},
   "outputs": [
    {
     "data": {
      "text/plain": [
       "332273"
      ]
     },
     "execution_count": 8,
     "metadata": {},
     "output_type": "execute_result"
    }
   ],
   "source": [
    "interaction_data[interaction_data['gmean'] == 1]['canonical_SMILES'].nunique()"
   ]
  },
  {
   "cell_type": "code",
   "execution_count": 9,
   "metadata": {},
   "outputs": [
    {
     "data": {
      "text/plain": [
       "4880"
      ]
     },
     "execution_count": 9,
     "metadata": {},
     "output_type": "execute_result"
    }
   ],
   "source": [
    "interaction_data[interaction_data['gmean'] == 0]['UniProt_S_ID'].nunique()"
   ]
  },
  {
   "cell_type": "code",
   "execution_count": 10,
   "metadata": {},
   "outputs": [
    {
     "data": {
      "text/plain": [
       "454993"
      ]
     },
     "execution_count": 10,
     "metadata": {},
     "output_type": "execute_result"
    }
   ],
   "source": [
    "interaction_data[interaction_data['gmean'] == 0]['canonical_SMILES'].nunique()"
   ]
  }
 ],
 "metadata": {
  "kernelspec": {
   "display_name": "Python 3",
   "language": "python",
   "name": "python3"
  },
  "language_info": {
   "codemirror_mode": {
    "name": "ipython",
    "version": 3
   },
   "file_extension": ".py",
   "mimetype": "text/x-python",
   "name": "python",
   "nbconvert_exporter": "python",
   "pygments_lexer": "ipython3",
   "version": "3.7.3"
  }
 },
 "nbformat": 4,
 "nbformat_minor": 4
}
