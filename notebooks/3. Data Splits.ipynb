{
 "cells": [
  {
   "cell_type": "code",
   "execution_count": 1,
   "id": "satellite-michael",
   "metadata": {},
   "outputs": [],
   "source": [
    "import pandas as pd\n",
    "import numpy as np\n",
    "import seaborn as sns\n",
    "import matplotlib.pyplot as plt\n",
    "from pathlib import Path\n",
    "sns.set()"
   ]
  },
  {
   "cell_type": "code",
   "execution_count": 2,
   "id": "attractive-burden",
   "metadata": {},
   "outputs": [],
   "source": [
    "import sys\n",
    "sys.path.append(\"../\")\n",
    "from src.data import read_files, collect_results, collect_predictions"
   ]
  },
  {
   "cell_type": "markdown",
   "id": "buried-receiver",
   "metadata": {},
   "source": [
    "## Important note\n",
    "\n",
    "Protein sequence similarities must be computed before executing this notebook. To compute them, you need Biopython & EMBOSS. Once you installed requirements, you can run `python src/data/protein_similarity.py`"
   ]
  },
  {
   "cell_type": "markdown",
   "id": "bound-kazakhstan",
   "metadata": {},
   "source": [
    "## Load filtered interactions"
   ]
  },
  {
   "cell_type": "code",
   "execution_count": 3,
   "id": "desirable-cargo",
   "metadata": {},
   "outputs": [
    {
     "name": "stderr",
     "output_type": "stream",
     "text": [
      "C:\\Users\\gokce\\Anaconda3\\lib\\site-packages\\IPython\\core\\interactiveshell.py:3156: DtypeWarning: Columns (10,11,12,13) have mixed types.Specify dtype option on import or set low_memory=False.\n",
      "  interactivity=interactivity, compiler=compiler, result=result)\n"
     ]
    }
   ],
   "source": [
    "interaction_data = pd.read_csv('../data/BindingDB_filtered_gmean.csv', index_col=False)"
   ]
  },
  {
   "cell_type": "markdown",
   "id": "vocal-heart",
   "metadata": {},
   "source": [
    "## Load proteins and their annotations"
   ]
  },
  {
   "cell_type": "code",
   "execution_count": 4,
   "id": "cutting-smell",
   "metadata": {},
   "outputs": [
    {
     "data": {
      "text/plain": [
       "(5469, 5469)"
      ]
     },
     "execution_count": 4,
     "metadata": {},
     "output_type": "execute_result"
    }
   ],
   "source": [
    "similarity_matrix = pd.read_csv('../data/protein_similarities.csv', index_col=False)\n",
    "similarity_matrix.rename(columns={'Unnamed: 0':'UniProt_S_ID'}, inplace=True)\n",
    "protein_ids = similarity_matrix['UniProt_S_ID'].values.tolist()\n",
    "sim_mat = similarity_matrix.to_numpy()\n",
    "similarity_matrix = similarity_matrix.set_index('UniProt_S_ID')\n",
    "sim_mat = sim_mat[:, 1:]\n",
    "sim_mat.shape"
   ]
  },
  {
   "cell_type": "code",
   "execution_count": null,
   "id": "committed-regulation",
   "metadata": {},
   "outputs": [
    {
     "name": "stderr",
     "output_type": "stream",
     "text": [
      "..\\tsdd\\data\\utils.py:76: FutureWarning: The default value of regex will change from True to False in a future version.\n",
      "  df['clans'] = df['clans'].str.replace('(nan, nan)', '\"-\", \"-\"')\n"
     ]
    }
   ],
   "source": [
    "from src.data import format_proteins\n",
    "proteins = pd.read_csv('../data/BindingDB_1chain_proteins_all.csv', index_col=False)\n",
    "proteins = format_proteins(proteins)\n",
    "proteins.head()"
   ]
  },
  {
   "cell_type": "code",
   "execution_count": null,
   "id": "alpha-kitty",
   "metadata": {},
   "outputs": [],
   "source": [
    "interaction_data_prot = interaction_data.merge(proteins, on=['UniProt_S_ID'], how='left')"
   ]
  },
  {
   "cell_type": "markdown",
   "id": "japanese-charge",
   "metadata": {},
   "source": [
    "We drop interactions whose protein family is unknown since we need Pfam family information to split proteins "
   ]
  },
  {
   "cell_type": "code",
   "execution_count": null,
   "id": "light-ceremony",
   "metadata": {},
   "outputs": [],
   "source": [
    "interaction_data_known_prot = interaction_data_prot.dropna(axis=0, subset=['families'])\n",
    "print('Interaction with unknown protein families', interaction_data_prot.shape[0] - interaction_data_known_prot.shape[0])"
   ]
  },
  {
   "cell_type": "code",
   "execution_count": null,
   "id": "reduced-yugoslavia",
   "metadata": {},
   "outputs": [],
   "source": [
    "interaction_data_known_prot_pos = interaction_data_known_prot[interaction_data_known_prot['gmean'] == 1]"
   ]
  },
  {
   "cell_type": "code",
   "execution_count": null,
   "id": "sublime-bicycle",
   "metadata": {},
   "outputs": [],
   "source": [
    "interaction_data_known_prot_neg = interaction_data_known_prot[interaction_data_known_prot['XC50'] > 10000]"
   ]
  },
  {
   "cell_type": "code",
   "execution_count": null,
   "id": "optimum-estate",
   "metadata": {
    "scrolled": true
   },
   "outputs": [],
   "source": [
    "interaction_data_known_prot_pos.shape[0], interaction_data_known_prot_pos['UniProt_S_ID'].unique().shape[0], interaction_data_known_prot_pos['canonical_SMILES'].unique().shape[0],"
   ]
  },
  {
   "cell_type": "code",
   "execution_count": null,
   "id": "greater-harvest",
   "metadata": {},
   "outputs": [],
   "source": [
    "families = interaction_data_known_prot_pos['families_ids'].explode().reset_index(drop=True)\n",
    "family_counts = families.value_counts().reset_index()"
   ]
  },
  {
   "cell_type": "code",
   "execution_count": null,
   "id": "aging-program",
   "metadata": {},
   "outputs": [],
   "source": [
    "family_counts[family_counts['families_ids'] > 100].rename(columns={'index': 'Pfam_id', 'families_ids': 'interaction_count'}).to_csv('../data/pfam_families.csv', index=False)"
   ]
  },
  {
   "cell_type": "code",
   "execution_count": null,
   "id": "front-hungary",
   "metadata": {},
   "outputs": [],
   "source": [
    "family_counts[:40]"
   ]
  },
  {
   "cell_type": "code",
   "execution_count": null,
   "id": "catholic-puzzle",
   "metadata": {},
   "outputs": [],
   "source": [
    "family_interactions = interaction_data_known_prot_pos.explode('families_ids').reset_index(drop=True)"
   ]
  },
  {
   "cell_type": "markdown",
   "id": "rising-middle",
   "metadata": {},
   "source": [
    "## Split dataset into train, val, test\n",
    "\n",
    "We first select 10% proteins from each PFAM family to construct validation set and compute similarities of those proteins to the remaining proteins."
   ]
  },
  {
   "cell_type": "code",
   "execution_count": 63,
   "id": "literary-bargain",
   "metadata": {},
   "outputs": [
    {
     "data": {
      "text/plain": [
       "(164696, 3817, 123763)"
      ]
     },
     "execution_count": 63,
     "metadata": {},
     "output_type": "execute_result"
    }
   ],
   "source": [
    "interaction_data_known_prot_neg.shape[0], interaction_data_known_prot_neg['UniProt_S_ID'].unique().shape[0], interaction_data_known_prot_neg['canonical_SMILES'].unique().shape[0],"
   ]
  },
  {
   "cell_type": "code",
   "execution_count": 67,
   "id": "covered-sport",
   "metadata": {},
   "outputs": [],
   "source": [
    "proteins_with_families = interaction_data_known_prot_pos[['families_ids', 'UniProt_S_ID']].explode(column='families_ids').reset_index(drop=True).drop_duplicates().rename(columns={'families_ids': 'Pfam'})"
   ]
  },
  {
   "cell_type": "code",
   "execution_count": 68,
   "id": "adverse-rhythm",
   "metadata": {},
   "outputs": [],
   "source": [
    "validation = proteins_with_families.groupby('Pfam').apply(lambda x: x.sample(frac=0.10)).rename(columns={'Pfam': 'Family_id'}).reset_index()\n",
    "val_families_lst = validation['UniProt_S_ID'].values.tolist()"
   ]
  },
  {
   "cell_type": "code",
   "execution_count": 69,
   "id": "pursuant-broadcasting",
   "metadata": {},
   "outputs": [
    {
     "data": {
      "text/plain": [
       "((5014, 2), (417, 4))"
      ]
     },
     "execution_count": 69,
     "metadata": {},
     "output_type": "execute_result"
    }
   ],
   "source": [
    "protein_with_families_wout_val = proteins_with_families[~proteins_with_families['UniProt_S_ID'].isin(val_families_lst)]\n",
    "protein_with_families_wout_val.shape, validation.shape"
   ]
  },
  {
   "cell_type": "code",
   "execution_count": 70,
   "id": "entire-virtue",
   "metadata": {},
   "outputs": [
    {
     "name": "stdout",
     "output_type": "stream",
     "text": [
      "Number of validation proteins without selection 417\n",
      "Number of remaining proteins 2706\n"
     ]
    }
   ],
   "source": [
    "print('Number of validation proteins without selection', len(val_families_lst))\n",
    "print('Number of remaining proteins', protein_with_families_wout_val['UniProt_S_ID'].unique().shape[0])"
   ]
  },
  {
   "cell_type": "code",
   "execution_count": 71,
   "id": "stuck-revelation",
   "metadata": {},
   "outputs": [
    {
     "name": "stderr",
     "output_type": "stream",
     "text": [
      "C:\\Users\\gokce\\Anaconda3\\lib\\site-packages\\ipykernel_launcher.py:1: SettingWithCopyWarning: \n",
      "A value is trying to be set on a copy of a slice from a DataFrame.\n",
      "Try using .loc[row_indexer,col_indexer] = value instead\n",
      "\n",
      "See the caveats in the documentation: https://pandas.pydata.org/pandas-docs/stable/user_guide/indexing.html#returning-a-view-versus-a-copy\n",
      "  \"\"\"Entry point for launching an IPython kernel.\n"
     ]
    },
    {
     "name": "stdout",
     "output_type": "stream",
     "text": [
      "Number of validation interactions 74104\n",
      "Number of remaining interactions 353963\n"
     ]
    }
   ],
   "source": [
    "interaction_data_known_prot_pos['val'] = interaction_data_known_prot_pos['UniProt_S_ID'].apply(lambda x: x in val_families_lst)\n",
    "print('Number of validation interactions', interaction_data_known_prot_pos[interaction_data_known_prot_pos['val']].shape[0])\n",
    "print('Number of remaining interactions', interaction_data_known_prot_pos[interaction_data_known_prot_pos['val'] == False].shape[0])"
   ]
  },
  {
   "cell_type": "code",
   "execution_count": 72,
   "id": "palestinian-lawyer",
   "metadata": {},
   "outputs": [],
   "source": [
    "val_proteins = interaction_data_known_prot_pos[interaction_data_known_prot_pos['val']]['UniProt_S_ID'].unique().tolist()\n",
    "remaining_proteins = interaction_data_known_prot_pos[interaction_data_known_prot_pos['val'] == False]['UniProt_S_ID'].unique().tolist()"
   ]
  },
  {
   "cell_type": "code",
   "execution_count": 73,
   "id": "french-index",
   "metadata": {},
   "outputs": [],
   "source": [
    "remaining_indices =  [protein_ids.index(protein) for protein in remaining_proteins]\n",
    "val_indices =  [protein_ids.index(protein) for protein in val_proteins]"
   ]
  },
  {
   "cell_type": "code",
   "execution_count": 74,
   "id": "tutorial-savage",
   "metadata": {},
   "outputs": [],
   "source": [
    "def compute_pairwise_similarity(protein_set1, protein_set2):\n",
    "    set2_indices =  [protein_ids.index(protein) for protein in protein_set2]\n",
    "    set1_indices =  [protein_ids.index(protein) for protein in protein_set1]\n",
    "    set1_set2_similarities = {}\n",
    "    set1_self_similarities = {}\n",
    "    set2_self_similarities = {}\n",
    "    for ix, index in enumerate(set1_indices):\n",
    "        row = sim_mat[index, :] \n",
    "        col = sim_mat[:, index]\n",
    "        set1_set2_similarities[protein_set1[ix]] = np.concatenate([row[set2_indices], col[set2_indices]])\n",
    "        set1_self_similarities[protein_set1[ix]] = np.concatenate([row[set1_indices], col[set1_indices]])\n",
    "    for ix, index in enumerate(set2_indices):\n",
    "        row = sim_mat[index, :] \n",
    "        col = sim_mat[:, index]\n",
    "        set2_self_similarities[protein_set2[ix]] = np.concatenate([row[set2_indices], col[set2_indices]])\n",
    "        \n",
    "    return set1_set2_similarities, set1_self_similarities, set2_self_similarities"
   ]
  },
  {
   "cell_type": "code",
   "execution_count": 75,
   "id": "passing-provision",
   "metadata": {},
   "outputs": [],
   "source": [
    "val_remaining_sim, val_self_sim, remaining_self_sim = compute_pairwise_similarity(val_proteins, remaining_proteins)"
   ]
  },
  {
   "cell_type": "code",
   "execution_count": 76,
   "id": "welcome-transcript",
   "metadata": {},
   "outputs": [
    {
     "name": "stderr",
     "output_type": "stream",
     "text": [
      "C:\\Users\\gokce\\Anaconda3\\lib\\site-packages\\seaborn\\distributions.py:2557: FutureWarning: `distplot` is a deprecated function and will be removed in a future version. Please adapt your code to use either `displot` (a figure-level function with similar flexibility) or `histplot` (an axes-level function for histograms).\n",
      "  warnings.warn(msg, FutureWarning)\n",
      "C:\\Users\\gokce\\Anaconda3\\lib\\site-packages\\seaborn\\distributions.py:2557: FutureWarning: `distplot` is a deprecated function and will be removed in a future version. Please adapt your code to use either `displot` (a figure-level function with similar flexibility) or `histplot` (an axes-level function for histograms).\n",
      "  warnings.warn(msg, FutureWarning)\n",
      "C:\\Users\\gokce\\Anaconda3\\lib\\site-packages\\seaborn\\distributions.py:2557: FutureWarning: `distplot` is a deprecated function and will be removed in a future version. Please adapt your code to use either `displot` (a figure-level function with similar flexibility) or `histplot` (an axes-level function for histograms).\n",
      "  warnings.warn(msg, FutureWarning)\n"
     ]
    },
    {
     "data": {
      "image/png": "[encoded data removed]",
      "text/plain": [
       "<Figure size 648x216 with 3 Axes>"
      ]
     },
     "metadata": {},
     "output_type": "display_data"
    }
   ],
   "source": [
    "fig, axes = plt.subplots(1, 3, figsize=(9, 3))\n",
    "val_remain = np.concatenate(list(val_remaining_sim.values()))\n",
    "sns.distplot( val_remain[val_remain != 0], ax=axes[0])\n",
    "axes[0].set_title('Validation vs Remaining')\n",
    "axes[0].set_xlim([0, 100])\n",
    "val_self = np.concatenate(list(val_self_sim.values()))\n",
    "sns.distplot(val_self[val_self != 0], ax=axes[1])\n",
    "axes[1].set_title('Validation self')\n",
    "axes[1].set_xlim([0, 100])\n",
    "remaining_self = np.concatenate(list(remaining_self_sim.values()))\n",
    "sns.distplot(remaining_self[remaining_self != 0], ax=axes[2])\n",
    "axes[2].set_title('Remaining self')\n",
    "axes[2].set_xlim([0, 100])\n",
    "plt.tight_layout()"
   ]
  },
  {
   "cell_type": "code",
   "execution_count": 77,
   "id": "abandoned-fleet",
   "metadata": {},
   "outputs": [
    {
     "data": {
      "text/plain": [
       "count    393.000000\n",
       "mean      77.196438\n",
       "std       21.176266\n",
       "min       29.700000\n",
       "25%       60.300000\n",
       "50%       83.400000\n",
       "75%       96.200000\n",
       "max      100.000000\n",
       "Name: max_similarity, dtype: float64"
      ]
     },
     "execution_count": 77,
     "metadata": {},
     "output_type": "execute_result"
    }
   ],
   "source": [
    "val_rem_sim_df = pd.DataFrame({'protein':val_remaining_sim.keys(), 'similarity': val_remaining_sim.values()})\n",
    "val_rem_sim_df['max_similarity'] =  val_rem_sim_df['similarity'].apply(max)\n",
    "val_rem_sim_df['max_similarity'].describe()"
   ]
  },
  {
   "cell_type": "code",
   "execution_count": 78,
   "id": "serial-aluminum",
   "metadata": {},
   "outputs": [
    {
     "name": "stderr",
     "output_type": "stream",
     "text": [
      "C:\\Users\\gokce\\Anaconda3\\lib\\site-packages\\seaborn\\distributions.py:2557: FutureWarning: `distplot` is a deprecated function and will be removed in a future version. Please adapt your code to use either `displot` (a figure-level function with similar flexibility) or `histplot` (an axes-level function for histograms).\n",
      "  warnings.warn(msg, FutureWarning)\n"
     ]
    },
    {
     "data": {
      "text/plain": [
       "<AxesSubplot:xlabel='max_similarity', ylabel='Density'>"
      ]
     },
     "execution_count": 78,
     "metadata": {},
     "output_type": "execute_result"
    },
    {
     "data": {
      "image/png": "[encoded data removed]",
      "text/plain": [
       "<Figure size 432x288 with 1 Axes>"
      ]
     },
     "metadata": {},
     "output_type": "display_data"
    }
   ],
   "source": [
    "sns.distplot(val_rem_sim_df['max_similarity'], bins=10)"
   ]
  },
  {
   "cell_type": "code",
   "execution_count": 79,
   "id": "independent-distance",
   "metadata": {},
   "outputs": [
    {
     "data": {
      "text/plain": [
       "(393, 3)"
      ]
     },
     "execution_count": 79,
     "metadata": {},
     "output_type": "execute_result"
    }
   ],
   "source": [
    "val_rem_sim_df.shape"
   ]
  },
  {
   "cell_type": "code",
   "execution_count": 80,
   "id": "rubber-differential",
   "metadata": {},
   "outputs": [],
   "source": [
    "val_rem_sim_df.set_index('protein', inplace=True)"
   ]
  },
  {
   "cell_type": "code",
   "execution_count": 81,
   "id": "designing-parliament",
   "metadata": {},
   "outputs": [],
   "source": [
    "val_rem_sim_df_buckets = pd.cut(val_rem_sim_df['max_similarity'], bins=[i * 10 for i in range(11)]).reset_index()"
   ]
  },
  {
   "cell_type": "code",
   "execution_count": 82,
   "id": "solved-aspect",
   "metadata": {},
   "outputs": [
    {
     "data": {
      "text/plain": [
       "(90, 100]    169\n",
       "(80, 90]      48\n",
       "(60, 70]      43\n",
       "(50, 60]      41\n",
       "(70, 80]      35\n",
       "(40, 50]      31\n",
       "(30, 40]      24\n",
       "(20, 30]       2\n",
       "(0, 10]        0\n",
       "(10, 20]       0\n",
       "Name: max_similarity, dtype: int64"
      ]
     },
     "execution_count": 82,
     "metadata": {},
     "output_type": "execute_result"
    }
   ],
   "source": [
    "val_rem_sim_df_buckets['max_similarity'].value_counts()"
   ]
  },
  {
   "cell_type": "code",
   "execution_count": 83,
   "id": "indoor-canadian",
   "metadata": {},
   "outputs": [
    {
     "data": {
      "text/html": [
       "<div>\n",
       "<style scoped>\n",
       "    .dataframe tbody tr th:only-of-type {\n",
       "        vertical-align: middle;\n",
       "    }\n",
       "\n",
       "    .dataframe tbody tr th {\n",
       "        vertical-align: top;\n",
       "    }\n",
       "\n",
       "    .dataframe thead th {\n",
       "        text-align: right;\n",
       "    }\n",
       "</style>\n",
       "<table border=\"1\" class=\"dataframe\">\n",
       "  <thead>\n",
       "    <tr style=\"text-align: right;\">\n",
       "      <th></th>\n",
       "      <th>index</th>\n",
       "      <th>max_similarity</th>\n",
       "    </tr>\n",
       "  </thead>\n",
       "  <tbody>\n",
       "    <tr>\n",
       "      <th>0</th>\n",
       "      <td>(50, 60]</td>\n",
       "      <td>37</td>\n",
       "    </tr>\n",
       "    <tr>\n",
       "      <th>1</th>\n",
       "      <td>(80, 90]</td>\n",
       "      <td>36</td>\n",
       "    </tr>\n",
       "    <tr>\n",
       "      <th>2</th>\n",
       "      <td>(60, 70]</td>\n",
       "      <td>34</td>\n",
       "    </tr>\n",
       "    <tr>\n",
       "      <th>3</th>\n",
       "      <td>(70, 80]</td>\n",
       "      <td>33</td>\n",
       "    </tr>\n",
       "    <tr>\n",
       "      <th>4</th>\n",
       "      <td>(40, 50]</td>\n",
       "      <td>30</td>\n",
       "    </tr>\n",
       "    <tr>\n",
       "      <th>5</th>\n",
       "      <td>(30, 40]</td>\n",
       "      <td>24</td>\n",
       "    </tr>\n",
       "    <tr>\n",
       "      <th>6</th>\n",
       "      <td>(90, 100]</td>\n",
       "      <td>4</td>\n",
       "    </tr>\n",
       "    <tr>\n",
       "      <th>7</th>\n",
       "      <td>(20, 30]</td>\n",
       "      <td>2</td>\n",
       "    </tr>\n",
       "    <tr>\n",
       "      <th>8</th>\n",
       "      <td>(0, 10]</td>\n",
       "      <td>0</td>\n",
       "    </tr>\n",
       "    <tr>\n",
       "      <th>9</th>\n",
       "      <td>(10, 20]</td>\n",
       "      <td>0</td>\n",
       "    </tr>\n",
       "  </tbody>\n",
       "</table>\n",
       "</div>"
      ],
      "text/plain": [
       "       index  max_similarity\n",
       "0   (50, 60]              37\n",
       "1   (80, 90]              36\n",
       "2   (60, 70]              34\n",
       "3   (70, 80]              33\n",
       "4   (40, 50]              30\n",
       "5   (30, 40]              24\n",
       "6  (90, 100]               4\n",
       "7   (20, 30]               2\n",
       "8    (0, 10]               0\n",
       "9   (10, 20]               0"
      ]
     },
     "execution_count": 83,
     "metadata": {},
     "output_type": "execute_result"
    },
    {
     "data": {
      "image/png": "[encoded data removed]",
      "text/plain": [
       "<Figure size 432x288 with 1 Axes>"
      ]
     },
     "metadata": {},
     "output_type": "display_data"
    }
   ],
   "source": [
    "val_rem_sim_samples = val_rem_sim_df_buckets.sample(200, weights = 1/np.power(val_rem_sim_df_buckets.groupby('max_similarity')['max_similarity'].transform('count'), 3))\n",
    "val_rem_sim_samples['max_similarity'].value_counts().sort_values('index').plot(kind='bar')\n",
    "val_rem_sim_samples['max_similarity'].value_counts().reset_index()"
   ]
  },
  {
   "cell_type": "code",
   "execution_count": 84,
   "id": "excited-happening",
   "metadata": {},
   "outputs": [
    {
     "data": {
      "text/plain": [
       "count          200\n",
       "unique           8\n",
       "top       (50, 60]\n",
       "freq            37\n",
       "Name: max_similarity, dtype: object"
      ]
     },
     "execution_count": 84,
     "metadata": {},
     "output_type": "execute_result"
    }
   ],
   "source": [
    "val_rem_sim_samples['max_similarity'].describe()"
   ]
  },
  {
   "cell_type": "code",
   "execution_count": 85,
   "id": "recorded-mileage",
   "metadata": {},
   "outputs": [
    {
     "name": "stderr",
     "output_type": "stream",
     "text": [
      "C:\\Users\\gokce\\Anaconda3\\lib\\site-packages\\seaborn\\distributions.py:2557: FutureWarning: `distplot` is a deprecated function and will be removed in a future version. Please adapt your code to use either `displot` (a figure-level function with similar flexibility) or `histplot` (an axes-level function for histograms).\n",
      "  warnings.warn(msg, FutureWarning)\n"
     ]
    },
    {
     "data": {
      "text/plain": [
       "<matplotlib.legend.Legend at 0x24fe684a2e8>"
      ]
     },
     "execution_count": 85,
     "metadata": {},
     "output_type": "execute_result"
    },
    {
     "data": {
      "image/png": "[encoded data removed]",
      "text/plain": [
       "<Figure size 432x288 with 1 Axes>"
      ]
     },
     "metadata": {},
     "output_type": "display_data"
    }
   ],
   "source": [
    "val_rem_sim_samples.shape[0]\n",
    "val_rem_sim_df.reset_index(inplace=True)\n",
    "val_rem_sim_samples_df = val_rem_sim_df[val_rem_sim_df.protein.isin(val_rem_sim_samples.protein)]\n",
    "sns.distplot(val_rem_sim_samples_df['max_similarity'], label='100')\n",
    "plt.legend()"
   ]
  },
  {
   "cell_type": "code",
   "execution_count": 86,
   "id": "accepted-selling",
   "metadata": {},
   "outputs": [
    {
     "data": {
      "text/html": [
       "<div>\n",
       "<style scoped>\n",
       "    .dataframe tbody tr th:only-of-type {\n",
       "        vertical-align: middle;\n",
       "    }\n",
       "\n",
       "    .dataframe tbody tr th {\n",
       "        vertical-align: top;\n",
       "    }\n",
       "\n",
       "    .dataframe thead th {\n",
       "        text-align: right;\n",
       "    }\n",
       "</style>\n",
       "<table border=\"1\" class=\"dataframe\">\n",
       "  <thead>\n",
       "    <tr style=\"text-align: right;\">\n",
       "      <th></th>\n",
       "      <th>protein</th>\n",
       "      <th>similarity</th>\n",
       "      <th>max_similarity</th>\n",
       "    </tr>\n",
       "  </thead>\n",
       "  <tbody>\n",
       "    <tr>\n",
       "      <th>2</th>\n",
       "      <td>O00506</td>\n",
       "      <td>[0.0, 0.0, 0.0, 0.0, 0.0, 0.0, 0.0, 0.0, 0.0, ...</td>\n",
       "      <td>79.3</td>\n",
       "    </tr>\n",
       "    <tr>\n",
       "      <th>3</th>\n",
       "      <td>O00750</td>\n",
       "      <td>[0.0, 0.0, 0.0, 0.0, 0.0, 0.0, 0.0, 0.0, 0.0, ...</td>\n",
       "      <td>60.5</td>\n",
       "    </tr>\n",
       "    <tr>\n",
       "      <th>4</th>\n",
       "      <td>O02604</td>\n",
       "      <td>[0.0, 0.0, 0.0, 0.0, 0.0, 0.0, 0.0, 0.0, 0.0, ...</td>\n",
       "      <td>74.7</td>\n",
       "    </tr>\n",
       "    <tr>\n",
       "      <th>6</th>\n",
       "      <td>O09175</td>\n",
       "      <td>[11.8, 8.1, 0.0, 13.5, 0.0, 0.0, 2.1, 0.0, 3.1...</td>\n",
       "      <td>51.3</td>\n",
       "    </tr>\n",
       "    <tr>\n",
       "      <th>7</th>\n",
       "      <td>O14920</td>\n",
       "      <td>[0.0, 0.0, 0.0, 0.0, 0.0, 0.0, 0.0, 0.0, 0.0, ...</td>\n",
       "      <td>67.1</td>\n",
       "    </tr>\n",
       "    <tr>\n",
       "      <th>...</th>\n",
       "      <td>...</td>\n",
       "      <td>...</td>\n",
       "      <td>...</td>\n",
       "    </tr>\n",
       "    <tr>\n",
       "      <th>386</th>\n",
       "      <td>Q9Y3Q4</td>\n",
       "      <td>[7.6, 16.5, 5.8, 10.3, 0.0, 0.0, 6.0, 0.0, 19....</td>\n",
       "      <td>55.7</td>\n",
       "    </tr>\n",
       "    <tr>\n",
       "      <th>387</th>\n",
       "      <td>Q9Y4C1</td>\n",
       "      <td>[0.0, 0.0, 0.0, 1.8, 0.0, 0.0, 0.0, 0.0, 0.0, ...</td>\n",
       "      <td>30.6</td>\n",
       "    </tr>\n",
       "    <tr>\n",
       "      <th>388</th>\n",
       "      <td>Q9Y4K4</td>\n",
       "      <td>[2.6, 6.2, 5.8, 13.7, 4.7, 0.0, 6.2, 3.0, 20.8...</td>\n",
       "      <td>68.8</td>\n",
       "    </tr>\n",
       "    <tr>\n",
       "      <th>390</th>\n",
       "      <td>Q9Y5X4</td>\n",
       "      <td>[0.0, 0.0, 0.0, 0.0, 0.0, 0.0, 0.0, 0.0, 0.0, ...</td>\n",
       "      <td>47.4</td>\n",
       "    </tr>\n",
       "    <tr>\n",
       "      <th>392</th>\n",
       "      <td>Q9Y6F1</td>\n",
       "      <td>[8.9, 7.7, 0.6, 10.2, 3.1, 0.0, 1.0, 0.0, 7.9,...</td>\n",
       "      <td>50.8</td>\n",
       "    </tr>\n",
       "  </tbody>\n",
       "</table>\n",
       "<p>200 rows × 3 columns</p>\n",
       "</div>"
      ],
      "text/plain": [
       "    protein                                         similarity  max_similarity\n",
       "2    O00506  [0.0, 0.0, 0.0, 0.0, 0.0, 0.0, 0.0, 0.0, 0.0, ...            79.3\n",
       "3    O00750  [0.0, 0.0, 0.0, 0.0, 0.0, 0.0, 0.0, 0.0, 0.0, ...            60.5\n",
       "4    O02604  [0.0, 0.0, 0.0, 0.0, 0.0, 0.0, 0.0, 0.0, 0.0, ...            74.7\n",
       "6    O09175  [11.8, 8.1, 0.0, 13.5, 0.0, 0.0, 2.1, 0.0, 3.1...            51.3\n",
       "7    O14920  [0.0, 0.0, 0.0, 0.0, 0.0, 0.0, 0.0, 0.0, 0.0, ...            67.1\n",
       "..      ...                                                ...             ...\n",
       "386  Q9Y3Q4  [7.6, 16.5, 5.8, 10.3, 0.0, 0.0, 6.0, 0.0, 19....            55.7\n",
       "387  Q9Y4C1  [0.0, 0.0, 0.0, 1.8, 0.0, 0.0, 0.0, 0.0, 0.0, ...            30.6\n",
       "388  Q9Y4K4  [2.6, 6.2, 5.8, 13.7, 4.7, 0.0, 6.2, 3.0, 20.8...            68.8\n",
       "390  Q9Y5X4  [0.0, 0.0, 0.0, 0.0, 0.0, 0.0, 0.0, 0.0, 0.0, ...            47.4\n",
       "392  Q9Y6F1  [8.9, 7.7, 0.6, 10.2, 3.1, 0.0, 1.0, 0.0, 7.9,...            50.8\n",
       "\n",
       "[200 rows x 3 columns]"
      ]
     },
     "execution_count": 86,
     "metadata": {},
     "output_type": "execute_result"
    }
   ],
   "source": [
    "val_rem_sim_samples_df"
   ]
  },
  {
   "cell_type": "code",
   "execution_count": 87,
   "id": "dominant-peace",
   "metadata": {},
   "outputs": [
    {
     "name": "stderr",
     "output_type": "stream",
     "text": [
      "C:\\Users\\gokce\\Anaconda3\\lib\\site-packages\\ipykernel_launcher.py:2: SettingWithCopyWarning: \n",
      "A value is trying to be set on a copy of a slice from a DataFrame.\n",
      "Try using .loc[row_indexer,col_indexer] = value instead\n",
      "\n",
      "See the caveats in the documentation: https://pandas.pydata.org/pandas-docs/stable/user_guide/indexing.html#returning-a-view-versus-a-copy\n",
      "  \n"
     ]
    }
   ],
   "source": [
    "#interaction_data_known_prot_pos.drop(['val_final'], axis=1, inplace=True)\n",
    "interaction_data_known_prot_pos['val_final'] = interaction_data_known_prot_pos['UniProt_S_ID'].apply(lambda x: x in val_rem_sim_samples_df['protein'].values.tolist())"
   ]
  },
  {
   "cell_type": "code",
   "execution_count": 88,
   "id": "persistent-horizon",
   "metadata": {},
   "outputs": [
    {
     "name": "stdout",
     "output_type": "stream",
     "text": [
      "Number of validation interactions:  (28403, 60)\n",
      "Number of validation proteins:  200\n"
     ]
    }
   ],
   "source": [
    "print('Number of validation interactions: ', interaction_data_known_prot_pos[interaction_data_known_prot_pos['val_final']].shape)\n",
    "print('Number of validation proteins: ', interaction_data_known_prot_pos[interaction_data_known_prot_pos['val_final']]['UniProt_S_ID'].unique().shape[0])"
   ]
  },
  {
   "cell_type": "code",
   "execution_count": 89,
   "id": "published-humor",
   "metadata": {},
   "outputs": [
    {
     "name": "stdout",
     "output_type": "stream",
     "text": [
      "Number of remaining interactions:  (399664, 60)\n",
      "Number of remaining proteins:  2899\n"
     ]
    }
   ],
   "source": [
    "print('Number of remaining interactions: ', interaction_data_known_prot_pos[interaction_data_known_prot_pos['val_final'] == False].shape)\n",
    "print('Number of remaining proteins: ', interaction_data_known_prot_pos[interaction_data_known_prot_pos['val_final'] == False]['UniProt_S_ID'].unique().shape[0])"
   ]
  },
  {
   "cell_type": "code",
   "execution_count": 90,
   "id": "systematic-message",
   "metadata": {},
   "outputs": [],
   "source": [
    "#interaction_data_known_prot_pos = interaction_data_known_prot_pos.drop(['holdout'], axis=1)\n",
    "holdout = protein_with_families_wout_val.groupby('Pfam').apply(lambda x: x.sample(frac=0.125)).rename(columns={'Pfam': 'Family_id'}).reset_index()\n",
    "holdout_families_lst = holdout['UniProt_S_ID'].values.tolist()"
   ]
  },
  {
   "cell_type": "code",
   "execution_count": 91,
   "id": "duplicate-diana",
   "metadata": {},
   "outputs": [
    {
     "data": {
      "text/plain": [
       "((4163, 2), (396, 4))"
      ]
     },
     "execution_count": 91,
     "metadata": {},
     "output_type": "execute_result"
    }
   ],
   "source": [
    "protein_with_families_wout_val_holdout = protein_with_families_wout_val[~protein_with_families_wout_val['UniProt_S_ID'].isin(holdout_families_lst)]\n",
    "protein_with_families_wout_val_holdout.shape, holdout.shape"
   ]
  },
  {
   "cell_type": "code",
   "execution_count": 92,
   "id": "automatic-investigation",
   "metadata": {},
   "outputs": [
    {
     "name": "stdout",
     "output_type": "stream",
     "text": [
      "Number of holdout proteins without selection 396\n",
      "Number of remaining proteins 2333\n"
     ]
    }
   ],
   "source": [
    "print('Number of holdout proteins without selection', len(holdout_families_lst))\n",
    "print('Number of remaining proteins', protein_with_families_wout_val_holdout['UniProt_S_ID'].unique().shape[0])"
   ]
  },
  {
   "cell_type": "code",
   "execution_count": 93,
   "id": "fixed-villa",
   "metadata": {},
   "outputs": [
    {
     "name": "stderr",
     "output_type": "stream",
     "text": [
      "C:\\Users\\gokce\\Anaconda3\\lib\\site-packages\\ipykernel_launcher.py:1: SettingWithCopyWarning: \n",
      "A value is trying to be set on a copy of a slice from a DataFrame.\n",
      "Try using .loc[row_indexer,col_indexer] = value instead\n",
      "\n",
      "See the caveats in the documentation: https://pandas.pydata.org/pandas-docs/stable/user_guide/indexing.html#returning-a-view-versus-a-copy\n",
      "  \"\"\"Entry point for launching an IPython kernel.\n"
     ]
    },
    {
     "name": "stdout",
     "output_type": "stream",
     "text": [
      "Number of holdout interactions 67577\n",
      "Number of remaining interactions 360490\n"
     ]
    }
   ],
   "source": [
    "interaction_data_known_prot_pos['holdout'] = interaction_data_known_prot_pos['UniProt_S_ID'].apply(lambda x: x in holdout_families_lst)\n",
    "print('Number of holdout interactions', interaction_data_known_prot_pos[interaction_data_known_prot_pos['holdout']].shape[0])\n",
    "print('Number of remaining interactions', interaction_data_known_prot_pos[interaction_data_known_prot_pos['holdout'] == False].shape[0])"
   ]
  },
  {
   "cell_type": "code",
   "execution_count": 94,
   "id": "declared-breakdown",
   "metadata": {},
   "outputs": [],
   "source": [
    "holdout_proteins = interaction_data_known_prot_pos[interaction_data_known_prot_pos['holdout']]['UniProt_S_ID'].unique().tolist()\n",
    "train_proteins = interaction_data_known_prot_pos[(interaction_data_known_prot_pos['holdout'] == False) & (interaction_data_known_prot_pos['val'] == False)]['UniProt_S_ID'].unique().tolist()"
   ]
  },
  {
   "cell_type": "code",
   "execution_count": 97,
   "id": "considered-tuning",
   "metadata": {},
   "outputs": [],
   "source": [
    "#protein_ids = similarity_matrix['UniProt_S_ID'].values.tolist()\n",
    "train_indices =  [protein_ids.index(protein) for protein in train_proteins]\n",
    "holdout_indices =  [protein_ids.index(protein) for protein in holdout_proteins]"
   ]
  },
  {
   "cell_type": "code",
   "execution_count": 98,
   "id": "advance-biodiversity",
   "metadata": {},
   "outputs": [],
   "source": [
    "holdout_train_sim, holdout_self_sim, train_self_sim = compute_pairwise_similarity(holdout_proteins, train_proteins)"
   ]
  },
  {
   "cell_type": "code",
   "execution_count": 99,
   "id": "divine-trainer",
   "metadata": {},
   "outputs": [
    {
     "name": "stderr",
     "output_type": "stream",
     "text": [
      "C:\\Users\\gokce\\Anaconda3\\lib\\site-packages\\seaborn\\distributions.py:2557: FutureWarning: `distplot` is a deprecated function and will be removed in a future version. Please adapt your code to use either `displot` (a figure-level function with similar flexibility) or `histplot` (an axes-level function for histograms).\n",
      "  warnings.warn(msg, FutureWarning)\n",
      "C:\\Users\\gokce\\Anaconda3\\lib\\site-packages\\seaborn\\distributions.py:2557: FutureWarning: `distplot` is a deprecated function and will be removed in a future version. Please adapt your code to use either `displot` (a figure-level function with similar flexibility) or `histplot` (an axes-level function for histograms).\n",
      "  warnings.warn(msg, FutureWarning)\n",
      "C:\\Users\\gokce\\Anaconda3\\lib\\site-packages\\seaborn\\distributions.py:2557: FutureWarning: `distplot` is a deprecated function and will be removed in a future version. Please adapt your code to use either `displot` (a figure-level function with similar flexibility) or `histplot` (an axes-level function for histograms).\n",
      "  warnings.warn(msg, FutureWarning)\n"
     ]
    },
    {
     "data": {
      "image/png": "[encoded data removed]",
      "text/plain": [
       "<Figure size 648x216 with 3 Axes>"
      ]
     },
     "metadata": {},
     "output_type": "display_data"
    }
   ],
   "source": [
    "fig, axes = plt.subplots(1, 3, figsize=(9, 3))\n",
    "holdout_train = np.concatenate(list(holdout_train_sim.values()))\n",
    "sns.distplot( holdout_train[holdout_train != 0], ax=axes[0])\n",
    "axes[0].set_title('Holdout vs Training')\n",
    "axes[0].set_xlim([0, 100])\n",
    "holdout_self = np.concatenate(list(holdout_self_sim.values()))\n",
    "sns.distplot(holdout_self[holdout_self != 0], ax=axes[1])\n",
    "axes[1].set_title('Holdout self')\n",
    "axes[1].set_xlim([0, 100])\n",
    "train_self = np.concatenate(list(train_self_sim.values()))\n",
    "sns.distplot(train_self[train_self != 0], ax=axes[2])\n",
    "axes[2].set_title('Train self')\n",
    "axes[2].set_xlim([0, 100])\n",
    "plt.tight_layout()"
   ]
  },
  {
   "cell_type": "code",
   "execution_count": 100,
   "id": "desperate-transsexual",
   "metadata": {},
   "outputs": [
    {
     "data": {
      "text/plain": [
       "count    373.000000\n",
       "mean      72.981501\n",
       "std       23.350431\n",
       "min       24.900000\n",
       "25%       52.200000\n",
       "50%       80.400000\n",
       "75%       94.700000\n",
       "max      100.000000\n",
       "Name: max_similarity, dtype: float64"
      ]
     },
     "execution_count": 100,
     "metadata": {},
     "output_type": "execute_result"
    }
   ],
   "source": [
    "holdout_train_sim_df = pd.DataFrame({'protein':holdout_train_sim.keys(), 'similarity': holdout_train_sim.values()})\n",
    "holdout_train_sim_df['max_similarity'] =  holdout_train_sim_df['similarity'].apply(max)\n",
    "holdout_train_sim_df['max_similarity'].describe()"
   ]
  },
  {
   "cell_type": "code",
   "execution_count": 101,
   "id": "devoted-belief",
   "metadata": {},
   "outputs": [
    {
     "name": "stderr",
     "output_type": "stream",
     "text": [
      "C:\\Users\\gokce\\Anaconda3\\lib\\site-packages\\seaborn\\distributions.py:2557: FutureWarning: `distplot` is a deprecated function and will be removed in a future version. Please adapt your code to use either `displot` (a figure-level function with similar flexibility) or `histplot` (an axes-level function for histograms).\n",
      "  warnings.warn(msg, FutureWarning)\n"
     ]
    },
    {
     "data": {
      "text/plain": [
       "<AxesSubplot:xlabel='max_similarity', ylabel='Density'>"
      ]
     },
     "execution_count": 101,
     "metadata": {},
     "output_type": "execute_result"
    },
    {
     "data": {
      "image/png": "[encoded data removed]",
      "text/plain": [
       "<Figure size 432x288 with 1 Axes>"
      ]
     },
     "metadata": {},
     "output_type": "display_data"
    }
   ],
   "source": [
    "sns.distplot(holdout_train_sim_df['max_similarity'])"
   ]
  },
  {
   "cell_type": "code",
   "execution_count": 102,
   "id": "positive-estonia",
   "metadata": {},
   "outputs": [],
   "source": [
    "holdout_train_sim_df.set_index('protein', inplace=True)"
   ]
  },
  {
   "cell_type": "code",
   "execution_count": 103,
   "id": "metallic-sympathy",
   "metadata": {},
   "outputs": [],
   "source": [
    "holdout_train_sim_df_buckets = pd.cut(holdout_train_sim_df['max_similarity'], bins=[i * 10 for i in range(11)]).reset_index()"
   ]
  },
  {
   "cell_type": "code",
   "execution_count": 104,
   "id": "casual-italian",
   "metadata": {},
   "outputs": [
    {
     "data": {
      "text/plain": [
       "(90, 100]    133\n",
       "(80, 90]      56\n",
       "(30, 40]      39\n",
       "(60, 70]      37\n",
       "(40, 50]      33\n",
       "(50, 60]      33\n",
       "(70, 80]      29\n",
       "(20, 30]      13\n",
       "(0, 10]        0\n",
       "(10, 20]       0\n",
       "Name: max_similarity, dtype: int64"
      ]
     },
     "execution_count": 104,
     "metadata": {},
     "output_type": "execute_result"
    }
   ],
   "source": [
    "holdout_train_sim_df_buckets['max_similarity'].value_counts()"
   ]
  },
  {
   "cell_type": "code",
   "execution_count": 105,
   "id": "trained-snake",
   "metadata": {},
   "outputs": [
    {
     "data": {
      "text/html": [
       "<div>\n",
       "<style scoped>\n",
       "    .dataframe tbody tr th:only-of-type {\n",
       "        vertical-align: middle;\n",
       "    }\n",
       "\n",
       "    .dataframe tbody tr th {\n",
       "        vertical-align: top;\n",
       "    }\n",
       "\n",
       "    .dataframe thead th {\n",
       "        text-align: right;\n",
       "    }\n",
       "</style>\n",
       "<table border=\"1\" class=\"dataframe\">\n",
       "  <thead>\n",
       "    <tr style=\"text-align: right;\">\n",
       "      <th></th>\n",
       "      <th>index</th>\n",
       "      <th>max_similarity</th>\n",
       "    </tr>\n",
       "  </thead>\n",
       "  <tbody>\n",
       "    <tr>\n",
       "      <th>0</th>\n",
       "      <td>(60, 70]</td>\n",
       "      <td>34</td>\n",
       "    </tr>\n",
       "    <tr>\n",
       "      <th>1</th>\n",
       "      <td>(50, 60]</td>\n",
       "      <td>33</td>\n",
       "    </tr>\n",
       "    <tr>\n",
       "      <th>2</th>\n",
       "      <td>(40, 50]</td>\n",
       "      <td>31</td>\n",
       "    </tr>\n",
       "    <tr>\n",
       "      <th>3</th>\n",
       "      <td>(30, 40]</td>\n",
       "      <td>29</td>\n",
       "    </tr>\n",
       "    <tr>\n",
       "      <th>4</th>\n",
       "      <td>(70, 80]</td>\n",
       "      <td>29</td>\n",
       "    </tr>\n",
       "    <tr>\n",
       "      <th>5</th>\n",
       "      <td>(80, 90]</td>\n",
       "      <td>25</td>\n",
       "    </tr>\n",
       "    <tr>\n",
       "      <th>6</th>\n",
       "      <td>(20, 30]</td>\n",
       "      <td>13</td>\n",
       "    </tr>\n",
       "    <tr>\n",
       "      <th>7</th>\n",
       "      <td>(90, 100]</td>\n",
       "      <td>6</td>\n",
       "    </tr>\n",
       "    <tr>\n",
       "      <th>8</th>\n",
       "      <td>(0, 10]</td>\n",
       "      <td>0</td>\n",
       "    </tr>\n",
       "    <tr>\n",
       "      <th>9</th>\n",
       "      <td>(10, 20]</td>\n",
       "      <td>0</td>\n",
       "    </tr>\n",
       "  </tbody>\n",
       "</table>\n",
       "</div>"
      ],
      "text/plain": [
       "       index  max_similarity\n",
       "0   (60, 70]              34\n",
       "1   (50, 60]              33\n",
       "2   (40, 50]              31\n",
       "3   (30, 40]              29\n",
       "4   (70, 80]              29\n",
       "5   (80, 90]              25\n",
       "6   (20, 30]              13\n",
       "7  (90, 100]               6\n",
       "8    (0, 10]               0\n",
       "9   (10, 20]               0"
      ]
     },
     "execution_count": 105,
     "metadata": {},
     "output_type": "execute_result"
    },
    {
     "data": {
      "image/png": "[encoded data removed]",
      "text/plain": [
       "<Figure size 432x288 with 1 Axes>"
      ]
     },
     "metadata": {},
     "output_type": "display_data"
    }
   ],
   "source": [
    "holdout_train_sim_samples = holdout_train_sim_df_buckets.sample(200, weights = 1/np.power(holdout_train_sim_df_buckets.groupby('max_similarity')['max_similarity'].transform('count'), 3))\n",
    "holdout_train_sim_samples['max_similarity'].value_counts().sort_values('index').plot(kind='bar')\n",
    "holdout_train_sim_samples['max_similarity'].value_counts().reset_index()"
   ]
  },
  {
   "cell_type": "code",
   "execution_count": 106,
   "id": "linear-stockholm",
   "metadata": {},
   "outputs": [
    {
     "data": {
      "text/plain": [
       "count          200\n",
       "unique           8\n",
       "top       (60, 70]\n",
       "freq            34\n",
       "Name: max_similarity, dtype: object"
      ]
     },
     "execution_count": 106,
     "metadata": {},
     "output_type": "execute_result"
    }
   ],
   "source": [
    "holdout_train_sim_samples['max_similarity'].describe()"
   ]
  },
  {
   "cell_type": "code",
   "execution_count": 107,
   "id": "through-leone",
   "metadata": {
    "scrolled": false
   },
   "outputs": [
    {
     "name": "stderr",
     "output_type": "stream",
     "text": [
      "C:\\Users\\gokce\\Anaconda3\\lib\\site-packages\\seaborn\\distributions.py:2557: FutureWarning: `distplot` is a deprecated function and will be removed in a future version. Please adapt your code to use either `displot` (a figure-level function with similar flexibility) or `histplot` (an axes-level function for histograms).\n",
      "  warnings.warn(msg, FutureWarning)\n",
      "No handles with labels found to put in legend.\n"
     ]
    },
    {
     "data": {
      "text/plain": [
       "<matplotlib.legend.Legend at 0x25058bc2320>"
      ]
     },
     "execution_count": 107,
     "metadata": {},
     "output_type": "execute_result"
    },
    {
     "data": {
      "image/png": "[encoded data removed]",
      "text/plain": [
       "<Figure size 432x288 with 1 Axes>"
      ]
     },
     "metadata": {},
     "output_type": "display_data"
    }
   ],
   "source": [
    "holdout_train_sim_df.reset_index(inplace=True)\n",
    "holdout_train_sim_samples_df = holdout_train_sim_df[holdout_train_sim_df.protein.isin(holdout_train_sim_samples.protein)]\n",
    "sns.distplot(holdout_train_sim_samples_df['max_similarity'])\n",
    "plt.legend()"
   ]
  },
  {
   "cell_type": "code",
   "execution_count": 108,
   "id": "absent-commissioner",
   "metadata": {},
   "outputs": [
    {
     "name": "stderr",
     "output_type": "stream",
     "text": [
      "C:\\Users\\gokce\\Anaconda3\\lib\\site-packages\\ipykernel_launcher.py:1: SettingWithCopyWarning: \n",
      "A value is trying to be set on a copy of a slice from a DataFrame.\n",
      "Try using .loc[row_indexer,col_indexer] = value instead\n",
      "\n",
      "See the caveats in the documentation: https://pandas.pydata.org/pandas-docs/stable/user_guide/indexing.html#returning-a-view-versus-a-copy\n",
      "  \"\"\"Entry point for launching an IPython kernel.\n"
     ]
    }
   ],
   "source": [
    "interaction_data_known_prot_pos['holdout_final'] = interaction_data_known_prot_pos['UniProt_S_ID'].apply(lambda x: x in holdout_train_sim_samples_df['protein'].values.tolist())"
   ]
  },
  {
   "cell_type": "code",
   "execution_count": 109,
   "id": "referenced-mounting",
   "metadata": {},
   "outputs": [
    {
     "name": "stdout",
     "output_type": "stream",
     "text": [
      "Number of holdout interactions:  (26321, 62)\n",
      "Number of holdout proteins:  200\n"
     ]
    }
   ],
   "source": [
    "print('Number of holdout interactions: ', interaction_data_known_prot_pos[interaction_data_known_prot_pos['holdout_final']].shape)\n",
    "print('Number of holdout proteins: ', interaction_data_known_prot_pos[interaction_data_known_prot_pos['holdout_final']]['UniProt_S_ID'].unique().shape[0])"
   ]
  },
  {
   "cell_type": "code",
   "execution_count": 110,
   "id": "brave-prototype",
   "metadata": {},
   "outputs": [
    {
     "name": "stdout",
     "output_type": "stream",
     "text": [
      "Number of remaining interactions:  (286386, 62)\n",
      "Number of remaining proteins:  2333\n"
     ]
    }
   ],
   "source": [
    "print('Number of remaining interactions: ', interaction_data_known_prot_pos[(interaction_data_known_prot_pos['holdout'] == False) & (interaction_data_known_prot_pos['val'] == False)].shape)\n",
    "print('Number of remaining proteins: ', interaction_data_known_prot_pos[(interaction_data_known_prot_pos['holdout'] == False) & (interaction_data_known_prot_pos['val'] == False)]['UniProt_S_ID'].unique().shape[0])"
   ]
  },
  {
   "cell_type": "code",
   "execution_count": 111,
   "id": "dominican-agency",
   "metadata": {},
   "outputs": [],
   "source": [
    "train_interactions = interaction_data_known_prot_pos[(interaction_data_known_prot_pos['holdout'] == False) & (interaction_data_known_prot_pos['val'] == False)]\n",
    "val_interactions = interaction_data_known_prot_pos[interaction_data_known_prot_pos['val_final']]\n",
    "holdout_interactions = interaction_data_known_prot_pos[interaction_data_known_prot_pos['holdout_final']]"
   ]
  },
  {
   "cell_type": "code",
   "execution_count": 112,
   "id": "armed-dragon",
   "metadata": {},
   "outputs": [],
   "source": [
    "train_proteins = train_interactions['UniProt_S_ID'].unique().tolist()\n",
    "val_proteins = val_interactions['UniProt_S_ID'].unique().tolist()\n",
    "holdout_proteins = holdout_interactions['UniProt_S_ID'].unique().tolist()"
   ]
  },
  {
   "cell_type": "code",
   "execution_count": 113,
   "id": "incorporated-remove",
   "metadata": {},
   "outputs": [
    {
     "data": {
      "text/html": [
       "<div>\n",
       "<style scoped>\n",
       "    .dataframe tbody tr th:only-of-type {\n",
       "        vertical-align: middle;\n",
       "    }\n",
       "\n",
       "    .dataframe tbody tr th {\n",
       "        vertical-align: top;\n",
       "    }\n",
       "\n",
       "    .dataframe thead th {\n",
       "        text-align: right;\n",
       "    }\n",
       "</style>\n",
       "<table border=\"1\" class=\"dataframe\">\n",
       "  <thead>\n",
       "    <tr style=\"text-align: right;\">\n",
       "      <th></th>\n",
       "      <th>index</th>\n",
       "      <th>target_organism</th>\n",
       "    </tr>\n",
       "  </thead>\n",
       "  <tbody>\n",
       "    <tr>\n",
       "      <th>0</th>\n",
       "      <td>Homo sapiens</td>\n",
       "      <td>19420</td>\n",
       "    </tr>\n",
       "    <tr>\n",
       "      <th>1</th>\n",
       "      <td>Rattus norvegicus</td>\n",
       "      <td>539</td>\n",
       "    </tr>\n",
       "    <tr>\n",
       "      <th>2</th>\n",
       "      <td>Mus musculus</td>\n",
       "      <td>261</td>\n",
       "    </tr>\n",
       "    <tr>\n",
       "      <th>3</th>\n",
       "      <td>Rattus</td>\n",
       "      <td>167</td>\n",
       "    </tr>\n",
       "    <tr>\n",
       "      <th>4</th>\n",
       "      <td>Mycobacterium tuberculosis</td>\n",
       "      <td>157</td>\n",
       "    </tr>\n",
       "    <tr>\n",
       "      <th>5</th>\n",
       "      <td>Staphylococcus aureus</td>\n",
       "      <td>67</td>\n",
       "    </tr>\n",
       "    <tr>\n",
       "      <th>6</th>\n",
       "      <td>Oryctolagus cuniculus</td>\n",
       "      <td>61</td>\n",
       "    </tr>\n",
       "    <tr>\n",
       "      <th>7</th>\n",
       "      <td>Escherichia coli</td>\n",
       "      <td>12</td>\n",
       "    </tr>\n",
       "    <tr>\n",
       "      <th>8</th>\n",
       "      <td>Zea mays</td>\n",
       "      <td>11</td>\n",
       "    </tr>\n",
       "    <tr>\n",
       "      <th>9</th>\n",
       "      <td>Plasmodium falciparum</td>\n",
       "      <td>10</td>\n",
       "    </tr>\n",
       "    <tr>\n",
       "      <th>10</th>\n",
       "      <td>Bacillus subtilis</td>\n",
       "      <td>10</td>\n",
       "    </tr>\n",
       "    <tr>\n",
       "      <th>11</th>\n",
       "      <td>Sus scrofa</td>\n",
       "      <td>10</td>\n",
       "    </tr>\n",
       "    <tr>\n",
       "      <th>12</th>\n",
       "      <td>Abelson murine leukemia virus</td>\n",
       "      <td>6</td>\n",
       "    </tr>\n",
       "    <tr>\n",
       "      <th>13</th>\n",
       "      <td>Trypanosoma cruzi</td>\n",
       "      <td>6</td>\n",
       "    </tr>\n",
       "    <tr>\n",
       "      <th>14</th>\n",
       "      <td>Leishmania major</td>\n",
       "      <td>4</td>\n",
       "    </tr>\n",
       "    <tr>\n",
       "      <th>15</th>\n",
       "      <td>Bos taurus</td>\n",
       "      <td>4</td>\n",
       "    </tr>\n",
       "    <tr>\n",
       "      <th>16</th>\n",
       "      <td>Serratia marcescens</td>\n",
       "      <td>3</td>\n",
       "    </tr>\n",
       "    <tr>\n",
       "      <th>17</th>\n",
       "      <td>Flavobacterium meningosepticum</td>\n",
       "      <td>1</td>\n",
       "    </tr>\n",
       "  </tbody>\n",
       "</table>\n",
       "</div>"
      ],
      "text/plain": [
       "                             index  target_organism\n",
       "0                     Homo sapiens            19420\n",
       "1                Rattus norvegicus              539\n",
       "2                     Mus musculus              261\n",
       "3                           Rattus              167\n",
       "4       Mycobacterium tuberculosis              157\n",
       "5            Staphylococcus aureus               67\n",
       "6            Oryctolagus cuniculus               61\n",
       "7                 Escherichia coli               12\n",
       "8                         Zea mays               11\n",
       "9            Plasmodium falciparum               10\n",
       "10               Bacillus subtilis               10\n",
       "11                      Sus scrofa               10\n",
       "12   Abelson murine leukemia virus                6\n",
       "13               Trypanosoma cruzi                6\n",
       "14                Leishmania major                4\n",
       "15                      Bos taurus                4\n",
       "16             Serratia marcescens                3\n",
       "17  Flavobacterium meningosepticum                1"
      ]
     },
     "execution_count": 113,
     "metadata": {},
     "output_type": "execute_result"
    }
   ],
   "source": [
    "interaction_data_known_prot_pos[interaction_data_known_prot_pos['UniProt_S_ID'].isin(holdout_proteins)]['target_organism'].value_counts().reset_index()"
   ]
  },
  {
   "cell_type": "code",
   "execution_count": 114,
   "id": "greek-headquarters",
   "metadata": {},
   "outputs": [],
   "source": [
    "holdout_train_sim, holdout_self_sim, train_self_sim = compute_pairwise_similarity(holdout_proteins, train_proteins)"
   ]
  },
  {
   "cell_type": "code",
   "execution_count": 115,
   "id": "instrumental-worse",
   "metadata": {},
   "outputs": [],
   "source": [
    "val_train_sim, val_self_sim, _ = compute_pairwise_similarity(val_proteins, train_proteins)"
   ]
  },
  {
   "cell_type": "code",
   "execution_count": 116,
   "id": "demanding-fireplace",
   "metadata": {},
   "outputs": [],
   "source": [
    "val_holdout_sim, _, _ = compute_pairwise_similarity(val_proteins, holdout_proteins)"
   ]
  },
  {
   "cell_type": "code",
   "execution_count": 117,
   "id": "nonprofit-sodium",
   "metadata": {},
   "outputs": [],
   "source": [
    "holdout_train = np.concatenate(list(holdout_train_sim.values()))\n",
    "holdout_train = holdout_train[holdout_train != 0]\n",
    "val_train = np.concatenate(list(val_train_sim.values()))\n",
    "val_train = val_train[val_train != 0]\n",
    "val_holdout = np.concatenate(list(val_holdout_sim.values()))\n",
    "val_holdout = val_holdout[val_holdout != 0]\n",
    "train_self = np.concatenate(list(train_self_sim.values()))\n",
    "train_self = train_self[train_self != 0]\n",
    "val_self = np.concatenate(list(val_self_sim.values()))\n",
    "val_self = val_self[val_self != 0]\n",
    "holdout_self = np.concatenate(list(holdout_self_sim.values()))\n",
    "holdout_self = holdout_self[holdout_self != 0]"
   ]
  },
  {
   "cell_type": "code",
   "execution_count": 118,
   "id": "variable-messenger",
   "metadata": {
    "scrolled": true
   },
   "outputs": [
    {
     "name": "stderr",
     "output_type": "stream",
     "text": [
      "C:\\Users\\gokce\\Anaconda3\\lib\\site-packages\\seaborn\\distributions.py:2557: FutureWarning: `distplot` is a deprecated function and will be removed in a future version. Please adapt your code to use either `displot` (a figure-level function with similar flexibility) or `histplot` (an axes-level function for histograms).\n",
      "  warnings.warn(msg, FutureWarning)\n",
      "C:\\Users\\gokce\\Anaconda3\\lib\\site-packages\\seaborn\\distributions.py:2557: FutureWarning: `distplot` is a deprecated function and will be removed in a future version. Please adapt your code to use either `displot` (a figure-level function with similar flexibility) or `histplot` (an axes-level function for histograms).\n",
      "  warnings.warn(msg, FutureWarning)\n",
      "C:\\Users\\gokce\\Anaconda3\\lib\\site-packages\\seaborn\\distributions.py:2557: FutureWarning: `distplot` is a deprecated function and will be removed in a future version. Please adapt your code to use either `displot` (a figure-level function with similar flexibility) or `histplot` (an axes-level function for histograms).\n",
      "  warnings.warn(msg, FutureWarning)\n",
      "C:\\Users\\gokce\\Anaconda3\\lib\\site-packages\\seaborn\\distributions.py:2557: FutureWarning: `distplot` is a deprecated function and will be removed in a future version. Please adapt your code to use either `displot` (a figure-level function with similar flexibility) or `histplot` (an axes-level function for histograms).\n",
      "  warnings.warn(msg, FutureWarning)\n",
      "C:\\Users\\gokce\\Anaconda3\\lib\\site-packages\\seaborn\\distributions.py:2557: FutureWarning: `distplot` is a deprecated function and will be removed in a future version. Please adapt your code to use either `displot` (a figure-level function with similar flexibility) or `histplot` (an axes-level function for histograms).\n",
      "  warnings.warn(msg, FutureWarning)\n",
      "C:\\Users\\gokce\\Anaconda3\\lib\\site-packages\\seaborn\\distributions.py:2557: FutureWarning: `distplot` is a deprecated function and will be removed in a future version. Please adapt your code to use either `displot` (a figure-level function with similar flexibility) or `histplot` (an axes-level function for histograms).\n",
      "  warnings.warn(msg, FutureWarning)\n"
     ]
    },
    {
     "data": {
      "image/png": "[encoded data removed]",
      "text/plain": [
       "<Figure size 648x432 with 6 Axes>"
      ]
     },
     "metadata": {},
     "output_type": "display_data"
    }
   ],
   "source": [
    "fig, axes = plt.subplots(3, 2, figsize=(9, 6))\n",
    "sns.distplot(holdout_train, ax=axes[0][0])\n",
    "axes[0][0].set_title('Test vs Training')\n",
    "axes[0][0].set_xlim([0, 100])\n",
    "\n",
    "sns.distplot(val_train, ax=axes[1][0])\n",
    "axes[1][0].set_title('Validation vs Training')\n",
    "axes[1][0].set_xlim([0, 100])\n",
    "\n",
    "sns.distplot(val_holdout, ax=axes[2][0])\n",
    "axes[2][0].set_title('Validation vs Test')\n",
    "axes[2][0].set_xlim([0, 100])\n",
    "\n",
    "sns.distplot(train_self, ax=axes[0][1])\n",
    "axes[0][1].set_title('Within Training')\n",
    "axes[0][1].set_xlim([0, 100])\n",
    "\n",
    "sns.distplot(val_self, ax=axes[1][1])\n",
    "axes[1][1].set_title('Within Validation')\n",
    "axes[1][1].set_xlim([0, 100])\n",
    "\n",
    "sns.distplot(holdout_self, ax=axes[2][1])\n",
    "axes[2][1].set_title('Within Test')\n",
    "axes[2][1].set_xlim([0, 100])\n",
    "plt.tight_layout()\n",
    "# plt.savefig('../figures/seq_similarities.pdf')"
   ]
  },
  {
   "cell_type": "code",
   "execution_count": 119,
   "id": "artistic-crisis",
   "metadata": {},
   "outputs": [
    {
     "data": {
      "text/plain": [
       "(286386, 2333, 235779)"
      ]
     },
     "execution_count": 119,
     "metadata": {},
     "output_type": "execute_result"
    }
   ],
   "source": [
    "train_interactions.shape[0], train_interactions['UniProt_S_ID'].unique().shape[0], train_interactions['canonical_SMILES'].unique().shape[0]"
   ]
  },
  {
   "cell_type": "code",
   "execution_count": 120,
   "id": "complimentary-portfolio",
   "metadata": {},
   "outputs": [
    {
     "data": {
      "text/plain": [
       "(28403, 200, 26317)"
      ]
     },
     "execution_count": 120,
     "metadata": {},
     "output_type": "execute_result"
    }
   ],
   "source": [
    "val_interactions.shape[0], val_interactions['UniProt_S_ID'].unique().shape[0], val_interactions['canonical_SMILES'].unique().shape[0]"
   ]
  },
  {
   "cell_type": "code",
   "execution_count": 121,
   "id": "identified-personality",
   "metadata": {},
   "outputs": [
    {
     "data": {
      "text/plain": [
       "(26321, 200, 25557)"
      ]
     },
     "execution_count": 121,
     "metadata": {},
     "output_type": "execute_result"
    }
   ],
   "source": [
    "holdout_interactions.shape[0], holdout_interactions['UniProt_S_ID'].unique().shape[0], holdout_interactions['canonical_SMILES'].unique().shape[0]"
   ]
  },
  {
   "cell_type": "code",
   "execution_count": 4,
   "id": "sophisticated-anchor",
   "metadata": {},
   "outputs": [
    {
     "data": {
      "text/plain": [
       "'C1=C(Cl)C(Cl)=CC=C1'"
      ]
     },
     "execution_count": 4,
     "metadata": {},
     "output_type": "execute_result"
    }
   ],
   "source": [
    "from rdkit import Chem\n",
    "def standardise(smiles, canonicalise=True):\n",
    "    \"\"\"\n",
    "    Standardise a SMILES string if valid (canonical + kekulized)\n",
    "    Args:\n",
    "        smiles: SMILES string\n",
    "        canonicalise: optional flag to override `self.canonicalise`\n",
    "    Returns: standard version the SMILES if valid, None otherwise\n",
    "\n",
    "    https://github.com/BenevolentAI/MolBERT/blob/main/molbert/utils/featurizer/molfeaturizer.py\n",
    "    \"\"\"\n",
    "    try:\n",
    "        mol = Chem.MolFromSmiles(smiles, sanitize=False)\n",
    "    except Exception as e:\n",
    "        # invalid?\n",
    "        logging.warning(f'Chem.MolFromSmiles failed smiles=\"{smiles}\" error={e}')\n",
    "        return None\n",
    "\n",
    "    if mol is None:\n",
    "        # invalid?\n",
    "        logging.warning(f'Chem.MolFromSmiles failed smiles=\"{smiles}\"')\n",
    "        return None\n",
    "\n",
    "    flags = Chem.SanitizeFlags.SANITIZE_ALL ^ Chem.SanitizeFlags.SANITIZE_CLEANUP\n",
    "    Chem.SanitizeMol(mol, flags, catchErrors=True)\n",
    "\n",
    "    if canonicalise:\n",
    "        # bug where permuted smiles are not canonicalised to the same form. This is fixed by round tripping SMILES\n",
    "        mol = Chem.MolFromSmiles(Chem.MolToSmiles(mol))\n",
    "        if mol is None:\n",
    "            logging.warning(f'Chem.MolFromSmiles failed after sanitization smiles=\"{smiles}\"')\n",
    "            return None\n",
    "\n",
    "#    try:\n",
    "#         Chem.Kekulize(mol, clearAromaticFlags=True)\n",
    "#         smiles = Chem.MolToSmiles(mol, kekuleSmiles=True, canonical=canonicalise)      \n",
    "#     except (ValueError, RuntimeError):\n",
    "#         logging.warning(f'SMILES failed Kekulization! {smiles}')\n",
    "#         return None\n",
    "\n",
    "    return smiles\n",
    "\n",
    "standardise('C1=C(Cl)C(Cl)=CC=C1')"
   ]
  },
  {
   "cell_type": "code",
   "execution_count": 124,
   "id": "seasonal-acquisition",
   "metadata": {},
   "outputs": [
    {
     "name": "stderr",
     "output_type": "stream",
     "text": [
      "C:\\Users\\gokce\\Anaconda3\\lib\\site-packages\\ipykernel_launcher.py:1: SettingWithCopyWarning: \n",
      "A value is trying to be set on a copy of a slice from a DataFrame.\n",
      "Try using .loc[row_indexer,col_indexer] = value instead\n",
      "\n",
      "See the caveats in the documentation: https://pandas.pydata.org/pandas-docs/stable/user_guide/indexing.html#returning-a-view-versus-a-copy\n",
      "  \"\"\"Entry point for launching an IPython kernel.\n",
      "C:\\Users\\gokce\\Anaconda3\\lib\\site-packages\\ipykernel_launcher.py:2: SettingWithCopyWarning: \n",
      "A value is trying to be set on a copy of a slice from a DataFrame.\n",
      "Try using .loc[row_indexer,col_indexer] = value instead\n",
      "\n",
      "See the caveats in the documentation: https://pandas.pydata.org/pandas-docs/stable/user_guide/indexing.html#returning-a-view-versus-a-copy\n",
      "  \n",
      "C:\\Users\\gokce\\Anaconda3\\lib\\site-packages\\ipykernel_launcher.py:3: SettingWithCopyWarning: \n",
      "A value is trying to be set on a copy of a slice from a DataFrame.\n",
      "Try using .loc[row_indexer,col_indexer] = value instead\n",
      "\n",
      "See the caveats in the documentation: https://pandas.pydata.org/pandas-docs/stable/user_guide/indexing.html#returning-a-view-versus-a-copy\n",
      "  This is separate from the ipykernel package so we can avoid doing imports until\n"
     ]
    }
   ],
   "source": [
    "train_interactions['canonical_SMILES'] = train_interactions['SMILES'].apply(standardise)\n",
    "val_interactions['canonical_SMILES'] = val_interactions['SMILES'].apply(standardise)\n",
    "holdout_interactions['canonical_SMILES'] = holdout_interactions['SMILES'].apply(standardise)"
   ]
  },
  {
   "cell_type": "code",
   "execution_count": null,
   "id": "challenging-installation",
   "metadata": {},
   "outputs": [],
   "source": [
    "from pathlib import Path\n",
    "path = Path('../data/splits')\n",
    "path.mkdir(parents=True, exist_ok=True)\n",
    "train_interactions[['UniProt_S_ID', 'canonical_SMILES', 'BindingDB_ID', 'SMILES', 'PubChem_CID', 'target_sequence']].to_csv(path / 'train_interactions.csv', index=False)\n",
    "val_interactions[['UniProt_S_ID', 'canonical_SMILES', 'BindingDB_ID', 'SMILES', 'PubChem_CID', 'target_sequence']].to_csv(path / 'val_interactions.csv', index=False)\n",
    "holdout_interactions[['UniProt_S_ID', 'canonical_SMILES', 'BindingDB_ID', 'SMILES', 'PubChem_CID', 'target_sequence']].to_csv(path / 'test_interactions.csv', index=False)"
   ]
  }
 ],
 "metadata": {
  "kernelspec": {
   "display_name": "Python 3",
   "language": "python",
   "name": "python3"
  },
  "language_info": {
   "codemirror_mode": {
    "name": "ipython",
    "version": 3
   },
   "file_extension": ".py",
   "mimetype": "text/x-python",
   "name": "python",
   "nbconvert_exporter": "python",
   "pygments_lexer": "ipython3",
   "version": "3.7.3"
  }
 },
 "nbformat": 4,
 "nbformat_minor": 5
}
